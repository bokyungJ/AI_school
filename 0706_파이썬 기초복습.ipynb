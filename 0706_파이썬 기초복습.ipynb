{
 "cells": [
  {
   "cell_type": "markdown",
   "metadata": {},
   "source": [
    "oz_01-파이썬 기초"
   ]
  },
  {
   "cell_type": "code",
   "execution_count": 2,
   "metadata": {},
   "outputs": [
    {
     "name": "stdout",
     "output_type": "stream",
     "text": [
      "[123, 'abc', True]\n"
     ]
    }
   ],
   "source": [
    "# 복합자료형- 리스트\n",
    "_list=[]\n",
    "_list.append(123)\n",
    "_list.append('abc')\n",
    "_list.append(True)\n",
    "print(_list)"
   ]
  },
  {
   "cell_type": "code",
   "execution_count": 3,
   "metadata": {},
   "outputs": [
    {
     "data": {
      "text/plain": [
       "(3.14, 'Python', True)"
      ]
     },
     "execution_count": 3,
     "metadata": {},
     "output_type": "execute_result"
    }
   ],
   "source": [
    "# 복합자료형 - 튜플\n",
    "_tuple=3.14, 'Python', True\n",
    "_tuple"
   ]
  },
  {
   "cell_type": "code",
   "execution_count": 4,
   "metadata": {},
   "outputs": [
    {
     "data": {
      "text/plain": [
       "{1: 'a', 'b': 2}"
      ]
     },
     "execution_count": 4,
     "metadata": {},
     "output_type": "execute_result"
    }
   ],
   "source": [
    "# 복합자료형 - 딕셔너리\n",
    "_dic={}\n",
    "_dic[1]='a'\n",
    "_dic['b']=2\n",
    "_dic"
   ]
  },
  {
   "cell_type": "code",
   "execution_count": 8,
   "metadata": {},
   "outputs": [
    {
     "name": "stdout",
     "output_type": "stream",
     "text": [
      "['3', '.', '0']\n"
     ]
    }
   ],
   "source": [
    "print(list('3.0'))"
   ]
  },
  {
   "cell_type": "code",
   "execution_count": 10,
   "metadata": {},
   "outputs": [
    {
     "name": "stdout",
     "output_type": "stream",
     "text": [
      "3 x 2 = 6\n"
     ]
    }
   ],
   "source": [
    "# 포맷 출력\n",
    "\n",
    "print('{1} x {0} = {2}'.format(2,3,2*3))"
   ]
  },
  {
   "cell_type": "code",
   "execution_count": 3,
   "metadata": {},
   "outputs": [
    {
     "name": "stdout",
     "output_type": "stream",
     "text": [
      "----------\n",
      "107\n"
     ]
    }
   ],
   "source": [
    "# 문자열 연산\n",
    "print('-'*10)\n",
    "num1='10'\n",
    "num2='7'\n",
    "print(num1+num2)\n",
    "\n",
    "num3=10\n",
    "num4='7'\n",
    "# print(num3+num4) -> 에러\n",
    "# print(num4+num3) -> 에러"
   ]
  },
  {
   "cell_type": "markdown",
   "metadata": {},
   "source": [
    "연산자 예제 1"
   ]
  },
  {
   "cell_type": "code",
   "execution_count": 16,
   "metadata": {},
   "outputs": [
    {
     "name": "stdout",
     "output_type": "stream",
     "text": [
      "더하기 결과 :  10\n",
      "빼기 결과 :  4\n",
      "곱하기 결과 :  21\n",
      "나누기 결과 :  2.3333333333333335\n"
     ]
    }
   ],
   "source": [
    "num1=7\n",
    "num2=3\n",
    "\n",
    "print(\"더하기 결과 : \", num1+num2)\n",
    "print(\"빼기 결과 : \",num1-num2)\n",
    "print(\"곱하기 결과 : \",num1*num2)\n",
    "print(\"나누기 결과 : \",num1/num2)"
   ]
  },
  {
   "cell_type": "markdown",
   "metadata": {},
   "source": [
    "연산자 예제2\n",
    "- 백의 자리 이하 버리기"
   ]
  },
  {
   "cell_type": "code",
   "execution_count": 18,
   "metadata": {},
   "outputs": [
    {
     "name": "stdout",
     "output_type": "stream",
     "text": [
      "결과 확인 :  400\n"
     ]
    }
   ],
   "source": [
    "num=456\n",
    "print(\"결과 확인 : \", num//100*100)"
   ]
  },
  {
   "cell_type": "markdown",
   "metadata": {},
   "source": [
    "연산자 예제3\n",
    "- 초를 입력받아 [시,분,초]형태로 출력"
   ]
  },
  {
   "cell_type": "code",
   "execution_count": 21,
   "metadata": {},
   "outputs": [
    {
     "name": "stdout",
     "output_type": "stream",
     "text": [
      "초입력 : 3723\n",
      "1시 2분 3초\n"
     ]
    }
   ],
   "source": [
    "time = int(input(\"초입력 : \"))\n",
    "second=time%60\n",
    "minute=time//60%60\n",
    "hour=time//3600\n",
    "print(\"{}시 {}분 {}초\".format(hour,minute,second))"
   ]
  },
  {
   "cell_type": "markdown",
   "metadata": {},
   "source": [
    "연산자 예제4\n",
    "- 시급계산기 기본 5000, 8시간초과 1.5배"
   ]
  },
  {
   "cell_type": "code",
   "execution_count": 26,
   "metadata": {},
   "outputs": [
    {
     "name": "stdout",
     "output_type": "stream",
     "text": [
      "노동시간 입력 : 11\n",
      "총 임금은 62,500원 입니다\n"
     ]
    }
   ],
   "source": [
    "### 포멧 형식 헷갈림 ###\n",
    "\n",
    "time=int(input(\"노동시간 입력 : \"))\n",
    "if time>8:\n",
    "    money=time*5000+(time-8)*5000*0.5\n",
    "else : \n",
    "    money=time*5000\n",
    "print(\"총 임금은 {:,}원 입니다\".format(int(money)))"
   ]
  },
  {
   "cell_type": "markdown",
   "metadata": {},
   "source": [
    "### 복합자료형\n",
    "리스트, 튜플, 딕셔너리, 집합"
   ]
  },
  {
   "cell_type": "markdown",
   "metadata": {},
   "source": [
    "#### 리스트\n",
    "- 여러 항목의 집합체, 각 항목의 타입은 서로 달라도 됨"
   ]
  },
  {
   "cell_type": "code",
   "execution_count": 6,
   "metadata": {},
   "outputs": [
    {
     "name": "stdout",
     "output_type": "stream",
     "text": [
      "[1, 2, ['life', 'is']]\n",
      "[1, 2, 3]\n",
      "[1, 2, 3, 1, 2, 3]\n"
     ]
    },
    {
     "data": {
      "text/plain": [
       "3"
      ]
     },
     "execution_count": 6,
     "metadata": {},
     "output_type": "execute_result"
    }
   ],
   "source": [
    "a=[1,2,['life','is']]\n",
    "print(a)\n",
    "\n",
    "b=list([1,2,3])\n",
    "print(b)\n",
    "\n",
    "print(b*2)\n",
    "\n",
    "len(b)"
   ]
  },
  {
   "cell_type": "code",
   "execution_count": 31,
   "metadata": {},
   "outputs": [
    {
     "name": "stdout",
     "output_type": "stream",
     "text": [
      "True\n",
      "1726429569992 1726429569992\n",
      "False\n",
      "1726429569992 1726429570184\n"
     ]
    }
   ],
   "source": [
    "# 리스트 복사\n",
    "a=[1,2,3]\n",
    "b=a\n",
    "print(a is b)\n",
    "print(id(a), id(b)) # id:실제 위치(주소), b의 내용을 바꾸면 a의 내용도 같이 바뀜\n",
    "\n",
    "c=a[:]\n",
    "print(a is c)\n",
    "print(id(a), id(c)) #c=a[:]랑 c=copy(a)랑 같음"
   ]
  },
  {
   "cell_type": "code",
   "execution_count": 38,
   "metadata": {},
   "outputs": [
    {
     "name": "stdout",
     "output_type": "stream",
     "text": [
      "[1, 2, 3, 'park', 'park', 'park']\n",
      "1\n",
      "[1, 2, 'my', 3, 'park', 'park', 'park']\n"
     ]
    }
   ],
   "source": [
    "# 리스트 요소 삽입\n",
    "a.append('park')\n",
    "print(a)\n",
    "\n",
    "print(a.index(2))\n",
    "\n",
    "a.insert(2,'my')\n",
    "print(a)"
   ]
  },
  {
   "cell_type": "code",
   "execution_count": 39,
   "metadata": {},
   "outputs": [
    {
     "name": "stdout",
     "output_type": "stream",
     "text": [
      "park\n",
      "[1, 2, 'my', 3, 'park', 'park']\n",
      "my\n",
      "[1, 2, 3, 'park', 'park']\n",
      "[1, 4, 5]\n",
      "[1, 5]\n",
      "[1]\n"
     ]
    }
   ],
   "source": [
    "# 리스트 요소 삭제\n",
    "print(a.pop())\n",
    "print(a)\n",
    "print(a.pop(2))\n",
    "print(a)\n",
    "\n",
    "array = [1,2,3,4,5]\n",
    "array[1:3] = []\n",
    "print(array)\n",
    "\n",
    "del array[1]\n",
    "print(array)\n",
    "\n",
    "array.remove(5)\n",
    "print(array)"
   ]
  },
  {
   "cell_type": "code",
   "execution_count": 42,
   "metadata": {},
   "outputs": [
    {
     "name": "stdout",
     "output_type": "stream",
     "text": [
      "[2, 1, 3, 5, 4]\n",
      "[1, 2, 3, 4, 5]\n",
      "[4, 5, 3, 1, 2]\n",
      "[5, 4, 3, 2, 1]\n"
     ]
    }
   ],
   "source": [
    "# 리스트 정렬\n",
    "x=[2,1,3,5,4]\n",
    "y=sorted(x)  # y=x.sort() -> 이건 아예 x를 정렬\n",
    "print(x)\n",
    "print(y)\n",
    "x.reverse()\n",
    "print(x)\n",
    "y.reverse()\n",
    "print(y)"
   ]
  },
  {
   "cell_type": "code",
   "execution_count": 43,
   "metadata": {},
   "outputs": [
    {
     "name": "stdout",
     "output_type": "stream",
     "text": [
      "[0, 10, 20, 30, 40]\n"
     ]
    }
   ],
   "source": [
    "list_=[x*10 for x in range(5)]\n",
    "print(list_)"
   ]
  },
  {
   "cell_type": "markdown",
   "metadata": {},
   "source": [
    "리스트 예제1\n",
    "- 리스트 array에 숫자 5를 7으로 바꾸시오. 리스트 array에 숫자 2를 리스트[‘a’,’b’,’c’]로 바꾸시오. 리스트 array에 4,7를 ‘d’, ‘e’, ‘f’, ‘g’로 바꾸시오."
   ]
  },
  {
   "cell_type": "code",
   "execution_count": 49,
   "metadata": {},
   "outputs": [
    {
     "name": "stdout",
     "output_type": "stream",
     "text": [
      "[1, 2, ['a', 'b', 'c'], 4, 'd', 'e', 'f', 'g']\n"
     ]
    }
   ],
   "source": [
    "array=[1,2,3,4,5]\n",
    "\n",
    "array[-1]=7\n",
    "array[2]=['a','b','c'] # 요소를 아예 리스트로 바꿔버리기, 이걸 안원하면 [2:3]으로\n",
    "array[4:]=['d','e','f','g']\n",
    "\n",
    "print(array)"
   ]
  },
  {
   "cell_type": "markdown",
   "metadata": {},
   "source": [
    "#### 튜플 \n",
    "- 값을 바꿀 수 없음. \n",
    "- 소괄호()나 ,로 구분"
   ]
  },
  {
   "cell_type": "code",
   "execution_count": 7,
   "metadata": {},
   "outputs": [],
   "source": [
    "a=()\n",
    "b=(1,2,3)\n",
    "c=(1,2,'life','is')\n",
    "d=(1,2,('life','is'))"
   ]
  },
  {
   "cell_type": "code",
   "execution_count": 9,
   "metadata": {},
   "outputs": [
    {
     "name": "stdout",
     "output_type": "stream",
     "text": [
      "(1, 2, 3) (4, 5, 'hello')\n",
      "(1, 2, 3, 4, 5, 'hello')\n"
     ]
    }
   ],
   "source": [
    "my_tuple = (1,2,3)\n",
    "your_tuple = 4,5,'hello'\n",
    "print(my_tuple, your_tuple)\n",
    "print(my_tuple+your_tuple)"
   ]
  },
  {
   "cell_type": "code",
   "execution_count": 10,
   "metadata": {},
   "outputs": [
    {
     "name": "stdout",
     "output_type": "stream",
     "text": [
      "2\n",
      "(2, 3)\n"
     ]
    }
   ],
   "source": [
    "# 인덱싱\n",
    "print(my_tuple[1])\n",
    "# 슬라이싱\n",
    "print(my_tuple[1:])"
   ]
  },
  {
   "cell_type": "code",
   "execution_count": 11,
   "metadata": {},
   "outputs": [
    {
     "name": "stdout",
     "output_type": "stream",
     "text": [
      "1\n",
      "2\n",
      "3\n"
     ]
    }
   ],
   "source": [
    "a, b, c = 1, 2, 3\n",
    "print(a)\n",
    "print(b)\n",
    "print(c)"
   ]
  },
  {
   "cell_type": "code",
   "execution_count": 18,
   "metadata": {},
   "outputs": [
    {
     "ename": "TypeError",
     "evalue": "'tuple' object does not support item assignment",
     "output_type": "error",
     "traceback": [
      "\u001b[1;31m---------------------------------------------------------------------------\u001b[0m",
      "\u001b[1;31mTypeError\u001b[0m                                 Traceback (most recent call last)",
      "\u001b[1;32m<ipython-input-18-962e63bd8bb6>\u001b[0m in \u001b[0;36m<module>\u001b[1;34m\u001b[0m\n\u001b[0;32m      2\u001b[0m \u001b[1;33m\u001b[0m\u001b[0m\n\u001b[0;32m      3\u001b[0m \u001b[0mmy_tuple\u001b[0m \u001b[1;33m=\u001b[0m \u001b[1;33m(\u001b[0m\u001b[1;34m'a'\u001b[0m\u001b[1;33m,\u001b[0m\u001b[1;34m'b'\u001b[0m\u001b[1;33m,\u001b[0m\u001b[1;36m1\u001b[0m\u001b[1;33m,\u001b[0m\u001b[1;36m2\u001b[0m\u001b[1;33m,\u001b[0m\u001b[1;33m(\u001b[0m\u001b[1;36m5\u001b[0m\u001b[1;33m,\u001b[0m\u001b[1;36m6\u001b[0m\u001b[1;33m)\u001b[0m\u001b[1;33m)\u001b[0m\u001b[1;33m\u001b[0m\u001b[1;33m\u001b[0m\u001b[0m\n\u001b[1;32m----> 4\u001b[1;33m \u001b[0mmy_tuple\u001b[0m\u001b[1;33m[\u001b[0m\u001b[1;36m2\u001b[0m\u001b[1;33m]\u001b[0m\u001b[1;33m=\u001b[0m\u001b[1;36m1\u001b[0m\u001b[1;33m\u001b[0m\u001b[1;33m\u001b[0m\u001b[0m\n\u001b[0m\u001b[0;32m      5\u001b[0m \u001b[1;32mdel\u001b[0m \u001b[0mmy_tuple\u001b[0m\u001b[1;33m[\u001b[0m\u001b[1;36m2\u001b[0m\u001b[1;33m]\u001b[0m\u001b[1;33m\u001b[0m\u001b[1;33m\u001b[0m\u001b[0m\n",
      "\u001b[1;31mTypeError\u001b[0m: 'tuple' object does not support item assignment"
     ]
    }
   ],
   "source": [
    "# 변경과 삭제 불가능\n",
    "\n",
    "my_tuple = ('a','b',1,2,(5,6))\n",
    "my_tuple[2]=1\n",
    "del my_tuple[2]\n",
    "\n",
    "del my_tuple # 객체 전체를 삭제하는 것은 ㄱㅊ"
   ]
  },
  {
   "cell_type": "code",
   "execution_count": 20,
   "metadata": {},
   "outputs": [
    {
     "name": "stdout",
     "output_type": "stream",
     "text": [
      "true\n",
      "true\n",
      "true\n"
     ]
    }
   ],
   "source": [
    "# 조건문 in, not in\n",
    "\n",
    "if 'x' in 'xyz':\n",
    "    print('true')\n",
    "if 'x' in ('x','y','z'):\n",
    "    print('true')\n",
    "if 'x' in ['x','y','z']:\n",
    "    print('true')"
   ]
  },
  {
   "cell_type": "markdown",
   "metadata": {},
   "source": [
    "### 딕셔너리 \n",
    "- {키 : 값} 형태\n",
    "- 키로 값을 찾음 (키가 배열의 인덱스 역할)\n",
    "- '+', '*' 연산은 불가능"
   ]
  },
  {
   "cell_type": "code",
   "execution_count": 21,
   "metadata": {},
   "outputs": [
    {
     "name": "stdout",
     "output_type": "stream",
     "text": [
      "21\n"
     ]
    }
   ],
   "source": [
    "my_dict = {'grade':3,'age':21,'name':'kim'}\n",
    "print(my_dict['age'])"
   ]
  },
  {
   "cell_type": "code",
   "execution_count": 22,
   "metadata": {},
   "outputs": [
    {
     "name": "stdout",
     "output_type": "stream",
     "text": [
      "dict_keys(['grade', 'age', 'name'])\n",
      "dict_values([3, 21, 'kim'])\n",
      "dict_items([('grade', 3), ('age', 21), ('name', 'kim')])\n"
     ]
    }
   ],
   "source": [
    "print(my_dict.keys())\n",
    "print(my_dict.values())\n",
    "print(my_dict.items())"
   ]
  },
  {
   "cell_type": "code",
   "execution_count": 23,
   "metadata": {},
   "outputs": [
    {
     "name": "stdout",
     "output_type": "stream",
     "text": [
      "{'grade': 3, 'age': 21, 'name': 'lee'}\n"
     ]
    }
   ],
   "source": [
    "my_dict['name']='lee'\n",
    "print(my_dict)"
   ]
  },
  {
   "cell_type": "code",
   "execution_count": 25,
   "metadata": {},
   "outputs": [
    {
     "name": "stdout",
     "output_type": "stream",
     "text": [
      "short\n"
     ]
    }
   ],
   "source": [
    "a = {'name':'hong','sex':'m','age':35}\n",
    "b = {1:'life',2:'is',3:'short'}\n",
    "c = {'x':[1,2,3],'y':[4,5,6]}\n",
    "d = {1:a,2:b}\n",
    "\n",
    "print(d[2][3])"
   ]
  },
  {
   "cell_type": "code",
   "execution_count": 28,
   "metadata": {},
   "outputs": [
    {
     "name": "stdout",
     "output_type": "stream",
     "text": [
      "{1: 'life', 3: 'short'}\n"
     ]
    }
   ],
   "source": [
    "# 삭제 \n",
    "del b[2]\n",
    "print(b)"
   ]
  },
  {
   "cell_type": "code",
   "execution_count": null,
   "metadata": {},
   "outputs": [],
   "source": [
    "c['z'] # 오류 발생\n",
    "c.get('z') # None값, 오류 x"
   ]
  },
  {
   "cell_type": "markdown",
   "metadata": {},
   "source": [
    "### 집합 \n",
    "- 중복 x\n",
    "- 순서 x\n",
    "- 인덱싱 x\n",
    "- 자료의 중복을 제거하기 위한 필터 역할로 사용"
   ]
  },
  {
   "cell_type": "code",
   "execution_count": 32,
   "metadata": {},
   "outputs": [
    {
     "name": "stdout",
     "output_type": "stream",
     "text": [
      "{1, 2, 3}\n",
      "[1, 2, 3]\n",
      "1\n",
      "(1, 2, 3)\n",
      "1\n"
     ]
    }
   ],
   "source": [
    "s1 = set([1,2,3])\n",
    "print(s1)\n",
    "\n",
    "l1 = list(s1)\n",
    "print(l1)\n",
    "print(l1[0])\n",
    "\n",
    "t1 = tuple(s1)\n",
    "print(t1)\n",
    "print(t1[0])"
   ]
  },
  {
   "cell_type": "code",
   "execution_count": 33,
   "metadata": {},
   "outputs": [
    {
     "name": "stdout",
     "output_type": "stream",
     "text": [
      "{1, 2, 3, 4, 5}\n"
     ]
    }
   ],
   "source": [
    "# 중복 제거\n",
    "\n",
    "s2 = set([1,1,1,1,2,2,2,3,3,4,5])\n",
    "print(s2)"
   ]
  },
  {
   "cell_type": "code",
   "execution_count": 34,
   "metadata": {},
   "outputs": [
    {
     "name": "stdout",
     "output_type": "stream",
     "text": [
      "{4, 5, 6}\n",
      "{4, 5, 6}\n",
      "{1, 2, 3, 4, 5, 6, 7, 8, 9}\n",
      "{1, 2, 3, 4, 5, 6, 7, 8, 9}\n",
      "{1, 2, 3}\n",
      "{1, 2, 3}\n"
     ]
    }
   ],
   "source": [
    "# 교집합, 합집합, 차집합\n",
    "s1 = set([1,2,3,4,5,6])\n",
    "s2 = set([4,5,6,7,8,9])\n",
    "\n",
    "# 교집합\n",
    "print(s1 & s2)\n",
    "print(s1.intersection(s2))\n",
    "\n",
    "# 합집합\n",
    "print(s1 | s2)\n",
    "print(s1.union(s2))\n",
    "\n",
    "# 차집합\n",
    "print(s1-s2)\n",
    "print(s1.difference(s2))"
   ]
  },
  {
   "cell_type": "code",
   "execution_count": 36,
   "metadata": {},
   "outputs": [
    {
     "name": "stdout",
     "output_type": "stream",
     "text": [
      "{1, 2, 3, 4}\n",
      "{1, 2, 3, 4, 5, 6, 7}\n",
      "{1, 2, 4, 5, 6, 7}\n"
     ]
    }
   ],
   "source": [
    "# 값 1개 추가\n",
    "\n",
    "s1 = set([1,2,3])\n",
    "s1.add(4)\n",
    "print(s1)\n",
    "\n",
    "# 값 여러개 추가\n",
    "\n",
    "s1.update([5,6,7])\n",
    "print(s1)\n",
    "\n",
    "# 특정값 지우기\n",
    "\n",
    "s1.remove(3)\n",
    "print(s1)"
   ]
  },
  {
   "cell_type": "markdown",
   "metadata": {},
   "source": [
    "### Mutability 자료형\n",
    "\n",
    "변경 불가능한 자료형 (immutable)\n",
    "- 숫자형, 불, 문자열, 튜플\n",
    "- 동일한 변수에 새로운 값 대입하면, 새로운 객체 생성 -> 객체의 주소 변경됨\n",
    "\n",
    "변경 가능한 자료형 (mutable)\n",
    "- 리스트, 딕셔너리, 집합\n",
    "- 내용 변경 후에도 동일한 객체와 주소 유지"
   ]
  },
  {
   "cell_type": "markdown",
   "metadata": {},
   "source": [
    "#### 조건문 \n",
    "- 빠르게 넘어가자"
   ]
  },
  {
   "cell_type": "code",
   "execution_count": 46,
   "metadata": {},
   "outputs": [
    {
     "name": "stdout",
     "output_type": "stream",
     "text": [
      "숫자를 입력하세요3\n"
     ]
    }
   ],
   "source": [
    "# 예제 1 \n",
    "\n",
    "num = int(input(\"숫자를 입력하세요\"))\n",
    "if ((num%3==0)&(num%5==0)):\n",
    "    print(\"3과 5의 배수입니다\")"
   ]
  },
  {
   "cell_type": "code",
   "execution_count": 49,
   "metadata": {},
   "outputs": [
    {
     "name": "stdout",
     "output_type": "stream",
     "text": [
      "정수를 입력하세요 0\n",
      "0입니다\n"
     ]
    }
   ],
   "source": [
    "# 예제 2\n",
    "\n",
    "num = int(input(\"정수를 입력하세요 \"))\n",
    "if (num>0):\n",
    "    print(\"양수입니다\")\n",
    "elif (num<0):\n",
    "    print(\"음수입니다\")\n",
    "else :\n",
    "    print(\"0입니다\")"
   ]
  },
  {
   "cell_type": "markdown",
   "metadata": {},
   "source": [
    "#### while 반복문\n",
    "- 빠르게 넘어가자"
   ]
  },
  {
   "cell_type": "code",
   "execution_count": 50,
   "metadata": {},
   "outputs": [
    {
     "name": "stdout",
     "output_type": "stream",
     "text": [
      "나무를 1번 찍었습니다\n",
      "나무를 2번 찍었습니다\n",
      "나무를 3번 찍었습니다\n",
      "나무를 4번 찍었습니다\n",
      "나무를 5번 찍었습니다\n",
      "나무를 6번 찍었습니다\n",
      "나무를 7번 찍었습니다\n",
      "나무를 8번 찍었습니다\n",
      "나무를 9번 찍었습니다\n",
      "나무를 10번 찍었습니다\n",
      "나무가 넘어갑니다\n"
     ]
    }
   ],
   "source": [
    "treehit = 0 \n",
    "while treehit<10:\n",
    "    treehit+=1\n",
    "    print(\"나무를 %d번 찍었습니다\"%treehit)\n",
    "    if treehit==10:\n",
    "        print(\"나무가 넘어갑니다\")"
   ]
  },
  {
   "cell_type": "code",
   "execution_count": 51,
   "metadata": {},
   "outputs": [
    {
     "name": "stdout",
     "output_type": "stream",
     "text": [
      "커피를 줍니다\n",
      "남은 커피의 양은 9개 입니다\n",
      "커피를 줍니다\n",
      "남은 커피의 양은 8개 입니다\n",
      "커피를 줍니다\n",
      "남은 커피의 양은 7개 입니다\n",
      "커피를 줍니다\n",
      "남은 커피의 양은 6개 입니다\n",
      "커피를 줍니다\n",
      "남은 커피의 양은 5개 입니다\n",
      "커피를 줍니다\n",
      "남은 커피의 양은 4개 입니다\n",
      "커피를 줍니다\n",
      "남은 커피의 양은 3개 입니다\n",
      "커피를 줍니다\n",
      "남은 커피의 양은 2개 입니다\n",
      "커피를 줍니다\n",
      "남은 커피의 양은 1개 입니다\n",
      "커피를 줍니다\n",
      "남은 커피의 양은 0개 입니다\n",
      "커피가 다 떨어졌습니다\n"
     ]
    }
   ],
   "source": [
    "# 반복문 강제 종료\n",
    "\n",
    "coffee=10\n",
    "money = 3000\n",
    "\n",
    "while money : #항상 참\n",
    "    print(\"커피를 줍니다\")\n",
    "    coffee-=1\n",
    "    print(\"남은 커피의 양은 %d개 입니다\"%coffee)\n",
    "    if coffee==0:\n",
    "        print(\"커피가 다 떨어졌습니다\")\n",
    "        break; # 강제종료"
   ]
  },
  {
   "cell_type": "code",
   "execution_count": 52,
   "metadata": {},
   "outputs": [
    {
     "name": "stdout",
     "output_type": "stream",
     "text": [
      "1\n",
      "3\n",
      "5\n",
      "7\n",
      "9\n"
     ]
    }
   ],
   "source": [
    "# continue 문\n",
    "a = 0 \n",
    "while a<10:\n",
    "    a +=1\n",
    "    if a%2 == 0:\n",
    "        continue\n",
    "    print(a)"
   ]
  },
  {
   "cell_type": "code",
   "execution_count": null,
   "metadata": {},
   "outputs": [],
   "source": [
    "# 무한 루프\n",
    "while True:\n",
    "    print(\"ctrl+C 를 눌러가 빠져나갈 수 있습니다\")"
   ]
  },
  {
   "cell_type": "markdown",
   "metadata": {},
   "source": [
    "#### for 반복문 \n",
    "- 빠르게 넘어가자"
   ]
  },
  {
   "cell_type": "code",
   "execution_count": 54,
   "metadata": {},
   "outputs": [
    {
     "name": "stdout",
     "output_type": "stream",
     "text": [
      "1\n",
      "125\n",
      "1000\n"
     ]
    }
   ],
   "source": [
    "items=[1,5,10]\n",
    "for c in items:\n",
    "    print(c**3)"
   ]
  },
  {
   "cell_type": "code",
   "execution_count": 55,
   "metadata": {},
   "outputs": [
    {
     "name": "stdout",
     "output_type": "stream",
     "text": [
      "3\n",
      "5\n",
      "9\n"
     ]
    }
   ],
   "source": [
    "a = [(1,2),(2,3),(4,5)]\n",
    "for (first, last) in a :\n",
    "    print(first+last)"
   ]
  },
  {
   "cell_type": "code",
   "execution_count": 56,
   "metadata": {},
   "outputs": [
    {
     "name": "stdout",
     "output_type": "stream",
     "text": [
      "0\n",
      "1000\n",
      "2000\n",
      "3000\n",
      "4000\n",
      "5000\n",
      "6000\n",
      "7000\n",
      "8000\n",
      "9000\n"
     ]
    }
   ],
   "source": [
    "for i in range(10):\n",
    "    print(i*1000)"
   ]
  },
  {
   "cell_type": "code",
   "execution_count": 58,
   "metadata": {},
   "outputs": [
    {
     "name": "stdout",
     "output_type": "stream",
     "text": [
      "range(0, 10)\n",
      "<class 'range'>\n"
     ]
    }
   ],
   "source": [
    "x=range(10)\n",
    "print(x)\n",
    "print(type(x))"
   ]
  },
  {
   "cell_type": "code",
   "execution_count": 60,
   "metadata": {},
   "outputs": [
    {
     "name": "stdout",
     "output_type": "stream",
     "text": [
      "1\n",
      "3\n",
      "5\n",
      "7\n",
      "9\n"
     ]
    }
   ],
   "source": [
    "x = range(1,10,2)\n",
    "for i in x:\n",
    "    print(i)"
   ]
  },
  {
   "cell_type": "code",
   "execution_count": 64,
   "metadata": {},
   "outputs": [
    {
     "name": "stdout",
     "output_type": "stream",
     "text": [
      "1!! congratulation\n",
      "3!! congratulation\n",
      "5!! congratulation\n"
     ]
    }
   ],
   "source": [
    "# for문과 continue\n",
    "\n",
    "marks=[90,25,67,45,80]\n",
    "\n",
    "num=0\n",
    "for mark in marks:\n",
    "    num+=1\n",
    "    if mark<60:\n",
    "        continue\n",
    "    else:\n",
    "        print(\"%d!! congratulation\" %num)"
   ]
  },
  {
   "cell_type": "code",
   "execution_count": 68,
   "metadata": {},
   "outputs": [
    {
     "name": "stdout",
     "output_type": "stream",
     "text": [
      "1\n",
      "2\n",
      "3\n",
      "4\n",
      "5\n",
      "6\n",
      "1\n",
      "2\n",
      "3\n",
      "4\n",
      "5\n",
      "6\n"
     ]
    }
   ],
   "source": [
    "# 예제 1 : arr에 있는거 한줄로 하나씩 출력\n",
    "\n",
    "arr = [[1,2],[3,4],[5,6]]\n",
    "\n",
    "for i in arr:\n",
    "    for k in i:\n",
    "        print(k)\n",
    "        \n",
    "# 다른 방법\n",
    "for i,k in arr:\n",
    "    print(i)\n",
    "    print(k)"
   ]
  },
  {
   "cell_type": "code",
   "execution_count": 71,
   "metadata": {
    "scrolled": true
   },
   "outputs": [
    {
     "name": "stdout",
     "output_type": "stream",
     "text": [
      "0 1 2 3 4 5 6 7 8 9 10 "
     ]
    }
   ],
   "source": [
    "# 예제 2 : 0 1 2 3 4 5 6 7 8 9 10 출력\n",
    "\n",
    "for i in range(11):\n",
    "    print(i, end=' ')"
   ]
  },
  {
   "cell_type": "code",
   "execution_count": 1,
   "metadata": {},
   "outputs": [
    {
     "name": "stdout",
     "output_type": "stream",
     "text": [
      "96 95 94 93 92 91 90 89 88 87 86 85 84 83 82 81 80 79 78 77 76 75 74 73 72 71 70 69 68 67 66 65 64 63 62 61 60 59 58 57 56 55 54 53 \n",
      "21 23 25 27 29 31 33 35 37 39 41 43 45 47 49 51 53 \n",
      "정수 : 10\n",
      "1 2 3 4 5 6 7 8 9 10 \n",
      "자연수 입력 : 5\n",
      "5 10 15 20 25 30 35 40 45 50 \n",
      "1683\n"
     ]
    }
   ],
   "source": [
    "# 예제 3\n",
    "\n",
    "# 96에서 53출력\n",
    "for i in range(96, 52, -1):\n",
    "    print(i, end=' ')\n",
    "print()\n",
    "\n",
    "# 21에서 57까지 홀수만 출력\n",
    "for i in range(21,54,2):\n",
    "    print(i, end=' ')\n",
    "print()\n",
    "\n",
    "# 정수를 입력받아 1부터 입력받은 정수까지 차례로 출력\n",
    "num = int(input(\"정수 : \"))\n",
    "for i in range(1,num+1):\n",
    "    print(i, end=' ')\n",
    "print()\n",
    "\n",
    "# 한개의 자연수를 입력받아 그 수의 배수 10개 출력\n",
    "num = int(input(\"자연수 입력 : \"))\n",
    "for i in range(1,11):\n",
    "    print(i*num, end=' ')\n",
    "print()\n",
    "\n",
    "# 1~100까지 3의 배수의 합 출력\n",
    "sum=0\n",
    "for i in range(1,101):\n",
    "    if(i%3 != 0):\n",
    "        continue\n",
    "    else:\n",
    "        sum+=i\n",
    "print(sum)"
   ]
  },
  {
   "cell_type": "code",
   "execution_count": 3,
   "metadata": {},
   "outputs": [
    {
     "name": "stdout",
     "output_type": "stream",
     "text": [
      "*\n",
      "**\n",
      "***\n",
      "****\n",
      "*****\n"
     ]
    }
   ],
   "source": [
    "# 별 출력\n",
    "for i in range(1,6):\n",
    "    print('*'*i)"
   ]
  },
  {
   "cell_type": "markdown",
   "metadata": {},
   "source": [
    "### 함수\n",
    "- 어떤 입력값을 주었을 때 어떤 결과값을 돌려준다\n",
    "- 똑같은 내용을 반복해서 작성하고 있는 나를 발견할 때\n",
    "\n",
    "- 외장함수 : import (os, sys, numpy, pandad, scipy, sklearn, matplotlib)"
   ]
  },
  {
   "cell_type": "code",
   "execution_count": 6,
   "metadata": {},
   "outputs": [
    {
     "name": "stdout",
     "output_type": "stream",
     "text": [
      "7\n",
      "3\n"
     ]
    }
   ],
   "source": [
    "def add(a,b):  # a, b는 매개변수\n",
    "    return a+b\n",
    "\n",
    "x=3\n",
    "y=4\n",
    "print(add(x,y)) # x, y는 인수\n",
    "\n",
    "# 매개변수를 지정하여 호출\n",
    "print(add(a=1, b=2))"
   ]
  },
  {
   "cell_type": "code",
   "execution_count": 9,
   "metadata": {},
   "outputs": [
    {
     "name": "stdout",
     "output_type": "stream",
     "text": [
      "26\n"
     ]
    }
   ],
   "source": [
    "# 입력값이 몇 개가 될 지 모를 때 - * : 튜플로 입력됨\n",
    "\n",
    "def add_many(*args):\n",
    "    result=0\n",
    "    for i in args:\n",
    "        result+=i\n",
    "    return result\n",
    "\n",
    "print(add_many(1,3,5,7,10))"
   ]
  },
  {
   "cell_type": "code",
   "execution_count": 10,
   "metadata": {},
   "outputs": [
    {
     "name": "stdout",
     "output_type": "stream",
     "text": [
      "25\n",
      "945\n"
     ]
    }
   ],
   "source": [
    "def add_mul(choice,*args):\n",
    "    if choice=='add':\n",
    "        result=0\n",
    "        for i in args:\n",
    "            result+=i\n",
    "    else :\n",
    "        result=1\n",
    "        for i in args:\n",
    "            result*=i\n",
    "    return result\n",
    "\n",
    "print(add_mul('add',1,3,5,7,9))\n",
    "print(add_mul('mul',1,3,5,7,9))"
   ]
  },
  {
   "cell_type": "code",
   "execution_count": 12,
   "metadata": {},
   "outputs": [
    {
     "name": "stdout",
     "output_type": "stream",
     "text": [
      "{'a': 1}\n",
      "{'name': 'foo', 'age': 3}\n"
     ]
    }
   ],
   "source": [
    "# 키워드 파라미터 - **\n",
    "# 매개변수 kwargs는 딕셔너리가 되고 모든 key=value 형태의 결과값이 그 딕셔너리에 저장\n",
    "\n",
    "def print_kwargs(**kwargs):\n",
    "    print(kwargs)\n",
    "\n",
    "print_kwargs(a=1)\n",
    "print_kwargs(name='foo',age=3)"
   ]
  },
  {
   "cell_type": "code",
   "execution_count": 14,
   "metadata": {},
   "outputs": [
    {
     "name": "stdout",
     "output_type": "stream",
     "text": [
      "(7, 12)\n",
      "7\n",
      "12\n"
     ]
    }
   ],
   "source": [
    "# 반환 값이 한개 이상인 경우 tuple로 반환\n",
    "\n",
    "def add_and_mul(a,b):\n",
    "    return a+b, a*b\n",
    "\n",
    "print(add_and_mul(3,4))\n",
    "r1, r2 = add_and_mul(3,4)\n",
    "print(r1)\n",
    "print(r2)"
   ]
  },
  {
   "cell_type": "code",
   "execution_count": 19,
   "metadata": {},
   "outputs": [
    {
     "name": "stdout",
     "output_type": "stream",
     "text": [
      "2\n",
      "3.0\n",
      "333\n",
      "3.0\n",
      "3.0\n"
     ]
    }
   ],
   "source": [
    "# 변수의 효력 범위(스코프)\n",
    "\n",
    "a=1 \n",
    "def vartest(a):\n",
    "    a=a+1\n",
    "    return a\n",
    "\n",
    "print(vartest(a))\n",
    "\n",
    "# 지역변수\n",
    "result=333\n",
    "def average(*a):\n",
    "    result=0\n",
    "    for i in a:\n",
    "        result+=i\n",
    "    result/=len(a)\n",
    "    return result\n",
    "\n",
    "print(average(1,2,3,4,5))\n",
    "print(result)\n",
    "\n",
    "# 전역변수\n",
    "result=0\n",
    "def avg(*a):\n",
    "    global result\n",
    "    for i in a:\n",
    "        result+=i\n",
    "    result/=len(a)\n",
    "    return result\n",
    "\n",
    "print(avg(1,2,3,4,5))\n",
    "print(result)"
   ]
  },
  {
   "cell_type": "code",
   "execution_count": 20,
   "metadata": {},
   "outputs": [
    {
     "name": "stdout",
     "output_type": "stream",
     "text": [
      "7\n"
     ]
    }
   ],
   "source": [
    "# lambda : def를 사용할 수 없을때\n",
    "\n",
    "add = lambda a,b: a+b\n",
    "print(add(3,4))"
   ]
  },
  {
   "cell_type": "code",
   "execution_count": 24,
   "metadata": {},
   "outputs": [
    {
     "name": "stdout",
     "output_type": "stream",
     "text": [
      "첫번째 정수 입력 : 5\n",
      "두번째 정수 입력 : 5\n",
      "큰 수 확인 :  0\n"
     ]
    }
   ],
   "source": [
    "# 예제 1 : 두개의 인수 중 더 큰 수 반환\n",
    "\n",
    "def LagerNumber(a,b):\n",
    "    if a==b:\n",
    "        return 0\n",
    "    return a if a>b else b\n",
    "\n",
    "num1 = int(input(\"첫번째 정수 입력 : \"))\n",
    "num2 = int(input(\"두번째 정수 입력 : \"))\n",
    "print(\"큰 수 확인 : \",LagerNumber(num1,num2))"
   ]
  },
  {
   "cell_type": "code",
   "execution_count": 29,
   "metadata": {},
   "outputs": [
    {
     "name": "stdout",
     "output_type": "stream",
     "text": [
      "첫번째 정수 입력 : -5\n",
      "두번째 정수 입력 : 4\n",
      "10에 가까운 수 :  4\n"
     ]
    }
   ],
   "source": [
    "# 예제 2 : 두 수 중 10에 더 가까운 수 반환\n",
    "\n",
    "def close10(a,b):\n",
    "    num1 = 10-a\n",
    "    num2 = 10-b\n",
    "    return a if num1**2<num2**2 else b\n",
    "\n",
    "num1 = int(input(\"첫번째 정수 입력 : \"))\n",
    "num2 = int(input(\"두번째 정수 입력 : \"))\n",
    "print(\"10에 가까운 수 : \",close10(num1,num2))"
   ]
  },
  {
   "cell_type": "code",
   "execution_count": 41,
   "metadata": {},
   "outputs": [
    {
     "name": "stdout",
     "output_type": "stream",
     "text": [
      "첫번째 정수 입력 : 2\n",
      "두번째 정수 입력 : 1\n",
      "False\n"
     ]
    }
   ],
   "source": [
    "# 예제 3-1 : num2가 num1의 약수인지 확인\n",
    "\n",
    "def isDivisor(num1,num2):\n",
    "    return True if num2%num1==0 else False\n",
    "\n",
    "num1 = int(input(\"첫번째 정수 입력 : \"))\n",
    "num2 = int(input(\"두번째 정수 입력 : \"))\n",
    "print(isDivisor(num1,num2))\n",
    "\n",
    "# 다른 방법\n",
    "def isDivisor2(a,b):\n",
    "    if a==0:\n",
    "        return False\n",
    "    return b%a==0"
   ]
  },
  {
   "cell_type": "code",
   "execution_count": 51,
   "metadata": {},
   "outputs": [
    {
     "name": "stdout",
     "output_type": "stream",
     "text": [
      "10의 약수 :  1 2 5 10\n",
      "16의 약수 :  1 2 4 8 16\n"
     ]
    }
   ],
   "source": [
    "# 예제 3-2 : 약수 구하기\n",
    "\n",
    "def getDivisor(a):\n",
    "    print(\"{}의 약수 : \".format(a), end=' ')\n",
    "    for i in range(a):\n",
    "        if isDivisor2(i,a):\n",
    "            print(i, end=' ')\n",
    "    print(a)\n",
    "    \n",
    "getDivisor(10)\n",
    "getDivisor(16)"
   ]
  },
  {
   "cell_type": "code",
   "execution_count": 76,
   "metadata": {},
   "outputs": [
    {
     "name": "stdout",
     "output_type": "stream",
     "text": [
      "10의 약수 :  1 2 5 10\n",
      "11의 약수 :  1 11\n",
      "12의 약수 :  1 2 3 4 6 12\n",
      "13의 약수 :  1 13\n",
      "14의 약수 :  1 2 7 14\n",
      "15의 약수 :  1 3 5 15\n",
      "16의 약수 :  1 2 4 8 16\n"
     ]
    }
   ],
   "source": [
    "# 예제 3-3 strat부터 end까지의 약수를 구하기\n",
    "\n",
    "def getDivisorRange(start,end):\n",
    "    for i in range(start,end+1):\n",
    "        getDivisor(i)\n",
    "\n",
    "getDivisorRange(10,16)"
   ]
  },
  {
   "cell_type": "markdown",
   "metadata": {},
   "source": [
    "### 클래스\n",
    "- 같은 클래스로 여러 다른 객체 만들기\n",
    "- 객체의 구조와 행동 정의\n",
    "- 초기화를 통해 제어\n",
    "- 객체가 실제 메모리 공간에 할당된 것을 인스턴스라고 부름\n",
    "- 멤버 변수, 멤버 메소드\n",
    "- 상속의 개념이 있음"
   ]
  },
  {
   "cell_type": "markdown",
   "metadata": {},
   "source": [
    "생성자로 객체 생성을 호출받으면 먼저 new를 호출하여 객체를 생성하고, new 메소드가 init 메소드를 호추랗여 객체에서 사용할 초기값들을 초기화함  \n",
    "\n",
    "\n",
    "파이썬은 메소드 오버로딩이 없음 : 하나의 클래스 내부에서 메소드 명칭은 똑같고, 인자를 다르게하는 형태를 허용하는 것"
   ]
  },
  {
   "cell_type": "code",
   "execution_count": 68,
   "metadata": {},
   "outputs": [
    {
     "name": "stdout",
     "output_type": "stream",
     "text": [
      "new\n",
      "init\n",
      "32\n",
      "32\n"
     ]
    }
   ],
   "source": [
    "\n",
    "class Flight:\n",
    "    def __init__(self) : # 초기화자\n",
    "        print('init')\n",
    "        super().__init__()\n",
    "        #self.name = name # 멤버 변수 정의\n",
    "        self._age = '32' # 내부 변수 (_싱글 언더바)\n",
    "        self.__hp = 1000 # 비공개 속성(__ 더블 언더바)\n",
    "        \n",
    "    def __new__(cls) : # 생성자\n",
    "        print('new')\n",
    "        return super().__new__(cls)\n",
    "        \n",
    "    def number(self): # 멤버 메소드 : 객체의 변수 이용 가능\n",
    "        return self._age\n",
    "    \n",
    "    def __del__(self): # 소멸자 메소드\n",
    "        print(\"del Flight\")\n",
    "    \n",
    "f = Flight() # 생성자(constructor)\n",
    "print(f._age)\n",
    "print(f.number())\n",
    "# f.__hp -> 에러"
   ]
  },
  {
   "cell_type": "code",
   "execution_count": 69,
   "metadata": {},
   "outputs": [
    {
     "name": "stdout",
     "output_type": "stream",
     "text": [
      "hi\n"
     ]
    }
   ],
   "source": [
    "class Dog:\n",
    "    def __init__(self,name,age):\n",
    "        print('hi')\n",
    "dog = Dog('name','age')"
   ]
  },
  {
   "cell_type": "code",
   "execution_count": 71,
   "metadata": {},
   "outputs": [],
   "source": [
    "# 클래스 \n",
    "\n",
    "class Stock:\n",
    "    def __init__(self, name, code, per, pbr, dividend):\n",
    "        self.name = name\n",
    "        self.code = code\n",
    "        self.per = per\n",
    "        self.pbr = pbr\n",
    "        self.dividend = dividend\n",
    "    \n",
    "    def set_name(self,name):\n",
    "        self.name=name\n",
    "    def set_code(self,code):\n",
    "        self.code=code\n",
    "    def set_per(self,per):\n",
    "        self.per=per\n",
    "    def set_pbr(self,pbr):\n",
    "        self.pbr=pbr\n",
    "    def set_dividend(self,dividend):\n",
    "        self.dividend=dividend\n",
    "        \n",
    "    def get_name(self):\n",
    "        return self.name\n",
    "    def get_code(self):\n",
    "        return self.code\n",
    "    "
   ]
  },
  {
   "cell_type": "code",
   "execution_count": 74,
   "metadata": {},
   "outputs": [
    {
     "name": "stdout",
     "output_type": "stream",
     "text": [
      "삼성\n"
     ]
    }
   ],
   "source": [
    "# 클래스 객체 생성\n",
    "\n",
    "obj = Stock('삼성','0005930',15.79,1.33,2.83)\n",
    "print(obj.name)"
   ]
  },
  {
   "cell_type": "code",
   "execution_count": 75,
   "metadata": {},
   "outputs": [
    {
     "name": "stdout",
     "output_type": "stream",
     "text": [
      "005930 15.79\n",
      "005380 8.7\n",
      "006570 317.34\n"
     ]
    }
   ],
   "source": [
    "# 클래스 객체 배열에 넣기\n",
    "\n",
    "com = []\n",
    "com.append(Stock(\"삼성\",'005930',15.79,1.33,2.83))\n",
    "com.append(Stock('현대','005380',8.70,0.35,4.27))\n",
    "com.append(Stock('LG','006570',317.34,0.69,1.37))\n",
    "\n",
    "for i in com:\n",
    "    print(i.code, i.per)"
   ]
  },
  {
   "cell_type": "code",
   "execution_count": 83,
   "metadata": {},
   "outputs": [
    {
     "data": {
      "text/plain": [
       "'08'"
      ]
     },
     "execution_count": 83,
     "metadata": {},
     "output_type": "execute_result"
    }
   ],
   "source": [
    "# 랜덤 쓰기\n",
    "\n",
    "import random\n",
    "\n",
    "random.randint(0,10) # 0~10 사이의 값\n",
    "\n",
    "# 두자리로 만들어서 나머지 2로 채우기\n",
    "str(random.randint(0,10)).zfill(2)"
   ]
  },
  {
   "cell_type": "code",
   "execution_count": 84,
   "metadata": {},
   "outputs": [
    {
     "name": "stdout",
     "output_type": "stream",
     "text": [
      "SC은행\n",
      "961-50-951638\n"
     ]
    }
   ],
   "source": [
    "# 271\n",
    "\n",
    "class Account:\n",
    "    def __init__(self, name, wage):\n",
    "        self.bank_name=\"SC은행\"\n",
    "        self.name=name\n",
    "        self.wage=wage\n",
    "        rand1 = str(random.randint(0,999)).zfill(3)\n",
    "        rand2 = str(random.randint(0,99)).zfill(2)\n",
    "        rand3 = str(random.randint(0,999999)).zfill(6)\n",
    "        self.account = rand1+'-'+rand2+'-'+rand3\n",
    "    \n",
    "    def set_name(self, name):\n",
    "        self.name=name\n",
    "    def set_wage(self, wage):\n",
    "        self.wage=wage\n",
    "\n",
    "ac = Account('bok',3000)\n",
    "print(ac.bank_name)\n",
    "print(ac.account)"
   ]
  },
  {
   "cell_type": "code",
   "execution_count": 86,
   "metadata": {},
   "outputs": [
    {
     "name": "stdout",
     "output_type": "stream",
     "text": [
      "2\n"
     ]
    }
   ],
   "source": [
    "# 클래스 변수 : 클래스의 특성\n",
    "\n",
    "class Dog:\n",
    "    counter = 0 # 클래스 변수\n",
    "    \n",
    "    def __init__(self,name):\n",
    "        self.name=name\n",
    "        Dog.counter+=1 # 클래스 변수 사용법 : 클래스.변수\n",
    "        \n",
    "dog1 = Dog('dog1')\n",
    "dog2 = Dog('dog2')\n",
    "print(Dog.counter)"
   ]
  },
  {
   "cell_type": "code",
   "execution_count": 87,
   "metadata": {},
   "outputs": [],
   "source": [
    "# 클래스 메소드\n",
    "\n"
   ]
  },
  {
   "cell_type": "code",
   "execution_count": 97,
   "metadata": {},
   "outputs": [
    {
     "name": "stdout",
     "output_type": "stream",
     "text": [
      "2   1000\n",
      "2   50\n",
      "2   55\n",
      "2   60   hi\n"
     ]
    }
   ],
   "source": [
    "# 클래스 상속\n",
    "\n",
    "class Car:\n",
    "    def __init__(self, wheel, price):\n",
    "        self.wheel=wheel\n",
    "        self.price=price\n",
    "\n",
    "car = Car(2, 1000)\n",
    "print(car.wheel, \" \", car.price)\n",
    "\n",
    "class Cycle(Car): # 상속\n",
    "    pass\n",
    "\n",
    "cycle1 = Cycle(2, 50)\n",
    "print(cycle1.wheel,' ',cycle1.price)\n",
    "\n",
    "class Cycle2(Car):\n",
    "    def __init__(self,wheel,price):\n",
    "        super().__init__(wheel,price)\n",
    "\n",
    "cycle2 = Cycle2(2,55)\n",
    "print(cycle2.wheel,' ',cycle2.price)\n",
    "\n",
    "class Cycle3(Car):\n",
    "    def __init__(self,wheel,price,gudong):\n",
    "        super().__init__(wheel,price)\n",
    "        self.gudong=gudong\n",
    "\n",
    "cycle3 = Cycle3(2, 60, 'hi')\n",
    "print(cycle3.wheel,' ',cycle3.price,' ',cycle3.gudong)"
   ]
  },
  {
   "cell_type": "markdown",
   "metadata": {},
   "source": [
    "### 파일 입출력"
   ]
  },
  {
   "cell_type": "code",
   "execution_count": 109,
   "metadata": {},
   "outputs": [],
   "source": [
    "# 291 txt 파일 생성/열기\n",
    "\n",
    "d_path=r\"c:/Users/qhqhs/Desktop/1,2주차_수업자료/temp/\"\n",
    "\n",
    "f= open(d_path+\"매수종목1.txt\",\"wt\",encoding=\"utf-8\")\n",
    "f.write(\"삼성 005931\\n\")\n",
    "f.write(\"현대 005381\\n\")\n",
    "f.write(\"엘지 032421\\n\")\n",
    "f.close()\n",
    "\n",
    "# 다른 방법\n",
    "with open(d_path+\"매수종목1.txt\",'w') as f:\n",
    "    f.write(\"\")"
   ]
  },
  {
   "cell_type": "code",
   "execution_count": 103,
   "metadata": {},
   "outputs": [],
   "source": [
    "# 293 CSV 파일쓰기\n",
    "\n",
    "f = open(d_path+\"매수종목2.csv\",\"wt\",encoding=\"cp949\")\n",
    "f.write('종목명, 종목코드, per\\n')\n",
    "f.write('삼성,005931,15.79\\n')\n",
    "f.write('naver,035420,55.82\\n')\n",
    "f.close()\n",
    "\n",
    "# 다른방법\n",
    "import csv\n",
    "\n",
    "f = open(d_path+\"매수종목1.csv\",\"wt\",encoding=\"cp949\")\n",
    "writer=csv.writer(f)\n",
    "writer.writerow(['종목명','종목코드','per'])\n",
    "writer.writerow(['삼성','005931','15.79'])\n",
    "writer.writerow(['naver','035420','55.82'])\n",
    "f.close()\n",
    "\n"
   ]
  },
  {
   "cell_type": "code",
   "execution_count": 106,
   "metadata": {},
   "outputs": [
    {
     "name": "stdout",
     "output_type": "stream",
     "text": [
      "['삼성 005931', '현대 005381', '엘지 032421']\n"
     ]
    }
   ],
   "source": [
    "# 294 파일 읽기\n",
    "\n",
    "f=open(d_path+'매수종목1.txt',\"r\",encoding=\"utf-8\")\n",
    "lines = f.readlines() # list, 라인 한줄씩 f.read() : 한꺼번에 읽음\n",
    "\n",
    "infos=[]\n",
    "for line in lines:\n",
    "    info = line.strip() # \\n 삭제\n",
    "    infos.append(info) \n",
    "\n",
    "print(infos)\n",
    "f.close()"
   ]
  },
  {
   "cell_type": "code",
   "execution_count": 108,
   "metadata": {},
   "outputs": [
    {
     "name": "stdout",
     "output_type": "stream",
     "text": [
      "{'삼성': '005931', '현대': '005381', '엘지': '032421'}\n"
     ]
    }
   ],
   "source": [
    "# 295 파일 읽기 : 종목 코드와 종목명을 딕셔너리로 저장\n",
    "\n",
    "f = open(d_path+\"매수종목1.txt\",\"r\",encoding=\"utf-8\")\n",
    "lines = f.readlines()\n",
    "\n",
    "dic={}\n",
    "for line in lines:\n",
    "    line = line.strip()\n",
    "    key, value = line.split(' ')\n",
    "    dic[key] = value\n",
    "\n",
    "f.close()\n",
    "print(dic)"
   ]
  },
  {
   "cell_type": "markdown",
   "metadata": {},
   "source": [
    "### 예외처리\n",
    "- 실행 중 오류 발생 시 프로그램의 흐름을 조정\n",
    "- 대표적인 에러 : ZeroDivisionError, IndexError, ValueError, KeyError"
   ]
  },
  {
   "cell_type": "code",
   "execution_count": 110,
   "metadata": {},
   "outputs": [
    {
     "name": "stdout",
     "output_type": "stream",
     "text": [
      "10.31\n",
      "0\n",
      "8.0\n"
     ]
    }
   ],
   "source": [
    "# 296 예외처리 \n",
    "\n",
    "per = [\"10.31\",\",\",\"8.00\"]\n",
    "\n",
    "for i in per:\n",
    "    try:\n",
    "        print(float(i))\n",
    "    except:\n",
    "        print(0)\n",
    "        \n",
    "# except <발생 에러> : 해당 에러 발생시 수행\n",
    "# except <발생 에러> as <에러 변수> : 변수로 에러 메시지 받음"
   ]
  },
  {
   "cell_type": "code",
   "execution_count": 111,
   "metadata": {},
   "outputs": [
    {
     "name": "stdout",
     "output_type": "stream",
     "text": [
      "[10.31, 0, 8.0]\n"
     ]
    }
   ],
   "source": [
    "# 297 예외처리 및 리스트에 저장\n",
    "\n",
    "per = [\"10.31\",\",\",\"8.00\"]\n",
    "new_per=[]\n",
    "\n",
    "for i in per:\n",
    "    try:\n",
    "        v=float(i)\n",
    "    except:\n",
    "        v=0\n",
    "    new_per.append(v) # 이렇게 따로 저장한 후 출력, 바로 출력하는 것은 성능면에서 별로\n",
    "print(new_per)"
   ]
  },
  {
   "cell_type": "code",
   "execution_count": 112,
   "metadata": {},
   "outputs": [
    {
     "name": "stdout",
     "output_type": "stream",
     "text": [
      "10.31\n",
      "clean data\n",
      "변환 완료\n",
      "0\n",
      "변환 완료\n",
      "8.0\n",
      "clean data\n",
      "변환 완료\n"
     ]
    }
   ],
   "source": [
    "# 300 try, except, else, finally\n",
    "\n",
    "per = [\"10.31\",\",\",\"8.00\"]\n",
    "\n",
    "for i in per:\n",
    "    try:\n",
    "        print(float(i))\n",
    "    except: #예외 발생\n",
    "        print(0)\n",
    "    else: # 예외가 발생하지 않았을 때\n",
    "        print(\"clean data\")\n",
    "    finally: #예외 발생 여부와 상관 x\n",
    "        print(\"변환 완료\")"
   ]
  }
 ],
 "metadata": {
  "kernelspec": {
   "display_name": "Python 3",
   "language": "python",
   "name": "python3"
  },
  "language_info": {
   "codemirror_mode": {
    "name": "ipython",
    "version": 3
   },
   "file_extension": ".py",
   "mimetype": "text/x-python",
   "name": "python",
   "nbconvert_exporter": "python",
   "pygments_lexer": "ipython3",
   "version": "3.7.6"
  }
 },
 "nbformat": 4,
 "nbformat_minor": 4
}
