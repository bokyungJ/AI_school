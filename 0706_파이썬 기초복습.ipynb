{
 "cells": [
  {
   "cell_type": "markdown",
   "metadata": {},
   "source": [
    "oz_01-파이썬 기초"
   ]
  },
  {
   "cell_type": "code",
   "execution_count": 2,
   "metadata": {},
   "outputs": [
    {
     "name": "stdout",
     "output_type": "stream",
     "text": [
      "[123, 'abc', True]\n"
     ]
    }
   ],
   "source": [
    "# 복합자료형- 리스트\n",
    "_list=[]\n",
    "_list.append(123)\n",
    "_list.append('abc')\n",
    "_list.append(True)\n",
    "print(_list)"
   ]
  },
  {
   "cell_type": "code",
   "execution_count": 3,
   "metadata": {},
   "outputs": [
    {
     "data": {
      "text/plain": [
       "(3.14, 'Python', True)"
      ]
     },
     "execution_count": 3,
     "metadata": {},
     "output_type": "execute_result"
    }
   ],
   "source": [
    "# 복합자료형 - 튜플\n",
    "_tuple=3.14, 'Python', True\n",
    "_tuple"
   ]
  },
  {
   "cell_type": "code",
   "execution_count": 4,
   "metadata": {},
   "outputs": [
    {
     "data": {
      "text/plain": [
       "{1: 'a', 'b': 2}"
      ]
     },
     "execution_count": 4,
     "metadata": {},
     "output_type": "execute_result"
    }
   ],
   "source": [
    "# 복합자료형 - 딕셔너리\n",
    "_dic={}\n",
    "_dic[1]='a'\n",
    "_dic['b']=2\n",
    "_dic"
   ]
  },
  {
   "cell_type": "code",
   "execution_count": 8,
   "metadata": {},
   "outputs": [
    {
     "name": "stdout",
     "output_type": "stream",
     "text": [
      "['3', '.', '0']\n"
     ]
    }
   ],
   "source": [
    "print(list('3.0'))"
   ]
  },
  {
   "cell_type": "code",
   "execution_count": 10,
   "metadata": {},
   "outputs": [
    {
     "name": "stdout",
     "output_type": "stream",
     "text": [
      "3 x 2 = 6\n"
     ]
    }
   ],
   "source": [
    "# 포맷 출력\n",
    "\n",
    "print('{1} x {0} = {2}'.format(2,3,2*3))"
   ]
  },
  {
   "cell_type": "code",
   "execution_count": 45,
   "metadata": {},
   "outputs": [
    {
     "name": "stdout",
     "output_type": "stream",
     "text": [
      "----------\n",
      "107\n"
     ]
    }
   ],
   "source": [
    "# 문자열 연산\n",
    "print('-'*10)\n",
    "num1='10'\n",
    "num2='7'\n",
    "print(num1+num2)\n",
    "\n",
    "num3=10\n",
    "num4='7'\n",
    "# print(num3+num4) -> 에러\n",
    "# print(num4+num3) -> 에러"
   ]
  },
  {
   "cell_type": "markdown",
   "metadata": {},
   "source": [
    "연산자 예제 1"
   ]
  },
  {
   "cell_type": "code",
   "execution_count": 16,
   "metadata": {},
   "outputs": [
    {
     "name": "stdout",
     "output_type": "stream",
     "text": [
      "더하기 결과 :  10\n",
      "빼기 결과 :  4\n",
      "곱하기 결과 :  21\n",
      "나누기 결과 :  2.3333333333333335\n"
     ]
    }
   ],
   "source": [
    "num1=7\n",
    "num2=3\n",
    "\n",
    "print(\"더하기 결과 : \", num1+num2)\n",
    "print(\"빼기 결과 : \",num1-num2)\n",
    "print(\"곱하기 결과 : \",num1*num2)\n",
    "print(\"나누기 결과 : \",num1/num2)"
   ]
  },
  {
   "cell_type": "markdown",
   "metadata": {},
   "source": [
    "연산자 예제2\n",
    "- 백의 자리 이하 버리기"
   ]
  },
  {
   "cell_type": "code",
   "execution_count": 18,
   "metadata": {},
   "outputs": [
    {
     "name": "stdout",
     "output_type": "stream",
     "text": [
      "결과 확인 :  400\n"
     ]
    }
   ],
   "source": [
    "num=456\n",
    "print(\"결과 확인 : \", num//100*100)"
   ]
  },
  {
   "cell_type": "markdown",
   "metadata": {},
   "source": [
    "연산자 예제3\n",
    "- 초를 입력받아 [시,분,초]형태로 출력"
   ]
  },
  {
   "cell_type": "code",
   "execution_count": 21,
   "metadata": {},
   "outputs": [
    {
     "name": "stdout",
     "output_type": "stream",
     "text": [
      "초입력 : 3723\n",
      "1시 2분 3초\n"
     ]
    }
   ],
   "source": [
    "time = int(input(\"초입력 : \"))\n",
    "second=time%60\n",
    "minute=time//60%60\n",
    "hour=time//3600\n",
    "print(\"{}시 {}분 {}초\".format(hour,minute,second))"
   ]
  },
  {
   "cell_type": "markdown",
   "metadata": {},
   "source": [
    "연산자 예제4\n",
    "- 시급계산기 기본 5000, 8시간초과 1.5배"
   ]
  },
  {
   "cell_type": "code",
   "execution_count": 26,
   "metadata": {},
   "outputs": [
    {
     "name": "stdout",
     "output_type": "stream",
     "text": [
      "노동시간 입력 : 11\n",
      "총 임금은 62,500원 입니다\n"
     ]
    }
   ],
   "source": [
    "### 포멧 형식 헷갈림 ###\n",
    "\n",
    "time=int(input(\"노동시간 입력 : \"))\n",
    "if time>8:\n",
    "    money=time*5000+(time-8)*5000*0.5\n",
    "else : \n",
    "    money=time*5000\n",
    "print(\"총 임금은 {:,}원 입니다\".format(int(money)))"
   ]
  },
  {
   "cell_type": "markdown",
   "metadata": {},
   "source": [
    "##### 복합자료형\n",
    "리스트, 튜플, 딕셔너리, 집합"
   ]
  },
  {
   "cell_type": "markdown",
   "metadata": {},
   "source": [
    "리스트\n",
    "- 여러 항목의 집합체, 각 항목의 타입은 서로 달라도 됨"
   ]
  },
  {
   "cell_type": "code",
   "execution_count": 30,
   "metadata": {},
   "outputs": [
    {
     "name": "stdout",
     "output_type": "stream",
     "text": [
      "[1, 2, ['life', 'is']]\n",
      "[1, 2, 3]\n",
      "[1, 2, 3, 1, 2, 3]\n"
     ]
    },
    {
     "data": {
      "text/plain": [
       "3"
      ]
     },
     "execution_count": 30,
     "metadata": {},
     "output_type": "execute_result"
    }
   ],
   "source": [
    "a=[1,2,['life','is']]\n",
    "print(a)\n",
    "\n",
    "b=list([1,2,3])\n",
    "print(b)\n",
    "\n",
    "print(b*2)\n",
    "\n",
    "len(b)"
   ]
  },
  {
   "cell_type": "code",
   "execution_count": 31,
   "metadata": {},
   "outputs": [
    {
     "name": "stdout",
     "output_type": "stream",
     "text": [
      "True\n",
      "1726429569992 1726429569992\n",
      "False\n",
      "1726429569992 1726429570184\n"
     ]
    }
   ],
   "source": [
    "# 리스트 복사\n",
    "a=[1,2,3]\n",
    "b=a\n",
    "print(a is b)\n",
    "print(id(a), id(b)) # id:실제 위치(주소), b의 내용을 바꾸면 a의 내용도 같이 바뀜\n",
    "\n",
    "c=a[:]\n",
    "print(a is c)\n",
    "print(id(a), id(c)) #c=a[:]랑 c=copy(a)랑 같음"
   ]
  },
  {
   "cell_type": "code",
   "execution_count": 38,
   "metadata": {},
   "outputs": [
    {
     "name": "stdout",
     "output_type": "stream",
     "text": [
      "[1, 2, 3, 'park', 'park', 'park']\n",
      "1\n",
      "[1, 2, 'my', 3, 'park', 'park', 'park']\n"
     ]
    }
   ],
   "source": [
    "# 리스트 요소 삽입\n",
    "a.append('park')\n",
    "print(a)\n",
    "\n",
    "print(a.index(2))\n",
    "\n",
    "a.insert(2,'my')\n",
    "print(a)"
   ]
  },
  {
   "cell_type": "code",
   "execution_count": 39,
   "metadata": {},
   "outputs": [
    {
     "name": "stdout",
     "output_type": "stream",
     "text": [
      "park\n",
      "[1, 2, 'my', 3, 'park', 'park']\n",
      "my\n",
      "[1, 2, 3, 'park', 'park']\n",
      "[1, 4, 5]\n",
      "[1, 5]\n",
      "[1]\n"
     ]
    }
   ],
   "source": [
    "# 리스트 요소 삭제\n",
    "print(a.pop())\n",
    "print(a)\n",
    "print(a.pop(2))\n",
    "print(a)\n",
    "\n",
    "array = [1,2,3,4,5]\n",
    "array[1:3] = []\n",
    "print(array)\n",
    "\n",
    "del array[1]\n",
    "print(array)\n",
    "\n",
    "array.remove(5)\n",
    "print(array)"
   ]
  },
  {
   "cell_type": "code",
   "execution_count": 42,
   "metadata": {},
   "outputs": [
    {
     "name": "stdout",
     "output_type": "stream",
     "text": [
      "[2, 1, 3, 5, 4]\n",
      "[1, 2, 3, 4, 5]\n",
      "[4, 5, 3, 1, 2]\n",
      "[5, 4, 3, 2, 1]\n"
     ]
    }
   ],
   "source": [
    "# 리스트 정렬\n",
    "x=[2,1,3,5,4]\n",
    "y=sorted(x)  # y=x.sort() -> 이건 아예 x를 정렬\n",
    "print(x)\n",
    "print(y)\n",
    "x.reverse()\n",
    "print(x)\n",
    "y.reverse()\n",
    "print(y)"
   ]
  },
  {
   "cell_type": "code",
   "execution_count": 43,
   "metadata": {},
   "outputs": [
    {
     "name": "stdout",
     "output_type": "stream",
     "text": [
      "[0, 10, 20, 30, 40]\n"
     ]
    }
   ],
   "source": [
    "list_=[x*10 for x in range(5)]\n",
    "print(list_)"
   ]
  },
  {
   "cell_type": "markdown",
   "metadata": {},
   "source": [
    "리스트 예제1\n",
    "- 리스트 array에 숫자 5를 7으로 바꾸시오. 리스트 array에 숫자 2를 리스트[‘a’,’b’,’c’]로 바꾸시오. 리스트 array에 4,7를 ‘d’, ‘e’, ‘f’, ‘g’로 바꾸시오."
   ]
  },
  {
   "cell_type": "code",
   "execution_count": 49,
   "metadata": {},
   "outputs": [
    {
     "name": "stdout",
     "output_type": "stream",
     "text": [
      "[1, 2, ['a', 'b', 'c'], 4, 'd', 'e', 'f', 'g']\n"
     ]
    }
   ],
   "source": [
    "array=[1,2,3,4,5]\n",
    "\n",
    "array[-1]=7\n",
    "array[2]=['a','b','c'] # 요소를 아예 리스트로 바꿔버리기, 이걸 안원하면 [2:3]으로\n",
    "array[4:]=['d','e','f','g']\n",
    "\n",
    "print(array)"
   ]
  },
  {
   "cell_type": "code",
   "execution_count": null,
   "metadata": {},
   "outputs": [],
   "source": []
  }
 ],
 "metadata": {
  "kernelspec": {
   "display_name": "Python 3",
   "language": "python",
   "name": "python3"
  },
  "language_info": {
   "codemirror_mode": {
    "name": "ipython",
    "version": 3
   },
   "file_extension": ".py",
   "mimetype": "text/x-python",
   "name": "python",
   "nbconvert_exporter": "python",
   "pygments_lexer": "ipython3",
   "version": "3.7.6"
  }
 },
 "nbformat": 4,
 "nbformat_minor": 4
}
