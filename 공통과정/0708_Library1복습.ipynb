{
 "cells": [
  {
   "cell_type": "code",
   "execution_count": 7,
   "metadata": {},
   "outputs": [
    {
     "name": "stdout",
     "output_type": "stream",
     "text": [
      "['C:\\\\Users\\\\qhqhs\\\\anaconda3\\\\lib\\\\site-packages\\\\ipykernel_launcher.py', '-f', 'C:\\\\Users\\\\qhqhs\\\\AppData\\\\Roaming\\\\jupyter\\\\runtime\\\\kernel-a0a10ed7-73ac-4f81-9d3f-332e66fa3d5b.json']\n",
      "C:\\Users\\qhqhs\\anaconda3\\lib\\site-packages\\ipykernel_launcher.py\n",
      "['C:\\\\Users\\\\qhqhs\\\\Desktop\\\\수업중', 'C:\\\\Users\\\\qhqhs\\\\anaconda3\\\\python37.zip', 'C:\\\\Users\\\\qhqhs\\\\anaconda3\\\\DLLs', 'C:\\\\Users\\\\qhqhs\\\\anaconda3\\\\lib', 'C:\\\\Users\\\\qhqhs\\\\anaconda3', '', 'C:\\\\Users\\\\qhqhs\\\\anaconda3\\\\lib\\\\site-packages', 'C:\\\\Users\\\\qhqhs\\\\anaconda3\\\\lib\\\\site-packages\\\\win32', 'C:\\\\Users\\\\qhqhs\\\\anaconda3\\\\lib\\\\site-packages\\\\win32\\\\lib', 'C:\\\\Users\\\\qhqhs\\\\anaconda3\\\\lib\\\\site-packages\\\\Pythonwin', 'C:\\\\Users\\\\qhqhs\\\\anaconda3\\\\lib\\\\site-packages\\\\IPython\\\\extensions', 'C:\\\\Users\\\\qhqhs\\\\.ipython', 'c:/User/qhqhs/Apps']\n"
     ]
    }
   ],
   "source": [
    "import sys\n",
    "\n",
    "print(sys.argv)\n",
    "print(sys.argv[0])\n",
    "\n",
    "print(sys.path)\n",
    "\n",
    "#r 경로 이름 추가\n",
    "#sys.path.append(r'c:/User/qhqhs/Apps')"
   ]
  },
  {
   "cell_type": "code",
   "execution_count": 17,
   "metadata": {},
   "outputs": [
    {
     "name": "stdout",
     "output_type": "stream",
     "text": [
      "\\\n",
      "c:\\Apps\n",
      " C 드라이브의 볼륨: OS\n",
      " 볼륨 일련 번호: 70EE-5442\n",
      "\n",
      " c:\\Apps 디렉터리\n",
      "\n",
      "2020-07-08  오후 03:13    <DIR>          .\n",
      "2020-07-08  오후 03:13    <DIR>          ..\n",
      "2020-06-13  오후 04:50    <DIR>          334CH\n",
      "2020-06-13  오후 05:01    <DIR>          7VDFT\n",
      "2020-07-08  오전 10:50    <DIR>          database\n",
      "2020-07-08  오후 03:10            36,563 example.docx\n",
      "2020-07-08  오후 02:51             5,522 hello.xlsx\n",
      "2020-07-07  오후 10:27    <DIR>          SQLiteStudio\n",
      "2020-06-13  오후 05:05    <DIR>          SupportAssist\n",
      "2020-07-08  오후 05:48    <DIR>          temp\n",
      "2020-07-08  오후 12:45                32 test1.bin.bak\n",
      "2020-07-08  오후 12:45               534 test1.bin.dat\n",
      "2020-07-08  오후 12:45                32 test1.bin.dir\n",
      "2020-06-13  오후 05:00    <DIR>          YR2T2\n",
      "               5개 파일              42,683 바이트\n",
      "               9개 디렉터리  941,437,083,648 바이트 남음\n",
      "\n",
      " C 드라이브의 볼륨: OS\n",
      " 볼륨 일련 번호: 70EE-5442\n",
      "\n",
      " c:\\Apps 디렉터리\n",
      "\n",
      "2020-07-08  오후 03:13    <DIR>          .\n",
      "2020-07-08  오후 03:13    <DIR>          ..\n",
      "2020-06-13  오후 04:50    <DIR>          334CH\n",
      "2020-06-13  오후 05:01    <DIR>          7VDFT\n",
      "2020-07-08  오전 10:50    <DIR>          database\n",
      "2020-07-08  오후 03:10            36,563 example.docx\n",
      "2020-07-08  오후 02:51             5,522 hello.xlsx\n",
      "2020-07-07  오후 10:27    <DIR>          SQLiteStudio\n",
      "2020-06-13  오후 05:05    <DIR>          SupportAssist\n",
      "2020-07-08  오후 05:48    <DIR>          temp\n",
      "2020-07-08  오후 12:45                32 test1.bin.bak\n",
      "2020-07-08  오후 12:45               534 test1.bin.dat\n",
      "2020-07-08  오후 12:45                32 test1.bin.dir\n",
      "2020-06-13  오후 05:00    <DIR>          YR2T2\n",
      "               5개 파일              42,683 바이트\n",
      "               9개 디렉터리  941,437,083,648 바이트 남음\n",
      "c:\\Apps\n",
      "c:\\Users\\qhqhs\\Desktop\\수업중\n"
     ]
    }
   ],
   "source": [
    "import os\n",
    "\n",
    "# path 만드는 방법\n",
    "os.path.join('~','~','~')\n",
    "# 현 운영체제의 path separator\n",
    "print(os.path.sep)\n",
    "\n",
    "# 내 시스템의 환경 변수값을 알고 싶을 때\n",
    "os.environ\n",
    "os.environ['path'] # 딕셔너리 형태, 키값을 넣어줘야함\n",
    "\n",
    "# 현 작업 폴더 (현재 실행 directory)\n",
    "print(os.getcwd()) # current working directory\n",
    "%pwd # % : command 모드에서 쓸 수 있는 것\n",
    "\n",
    "# 디렉토리 목록 보기\n",
    "f = os.popen('dir')\n",
    "print(f.read())\n",
    "%ls\n",
    "\n",
    "# 작업 폴더 이동\n",
    "os.chdir(r\"c:/Apps\")\n",
    "print(os.getcwd())\n",
    "os.chdir(r\"c:/Users/qhqhs/Desktop/수업중\")\n",
    "print(os.getcwd())\n"
   ]
  },
  {
   "cell_type": "code",
   "execution_count": 20,
   "metadata": {},
   "outputs": [
    {
     "name": "stdout",
     "output_type": "stream",
     "text": [
      "c:\\Users\\qhqhs\\Desktop\\수업중\\hihi.txt\n",
      "True\n"
     ]
    }
   ],
   "source": [
    "# 절대 경로 만들기\n",
    "\n",
    "# 현 작업 폴더 바탕으로 절대 path만들기\n",
    "str_path_abs = os.path.abspath(\"hihi.txt\")\n",
    "print(str_path_abs)\n",
    "# 절대 경로 확인\n",
    "print(os.path.isabs(str_path_abs))"
   ]
  },
  {
   "cell_type": "code",
   "execution_count": 21,
   "metadata": {},
   "outputs": [
    {
     "name": "stdout",
     "output_type": "stream",
     "text": [
      "hihi.txt\n",
      "c:\\Users\\qhqhs\\Desktop\\수업중\n"
     ]
    }
   ],
   "source": [
    "# 파일 이름만 가져오기\n",
    "print(os.path.basename(str_path_abs))\n",
    "# 폴더 이름만 가져오기\n",
    "print(os.path.dirname(str_path_abs))"
   ]
  },
  {
   "cell_type": "code",
   "execution_count": 23,
   "metadata": {},
   "outputs": [
    {
     "name": "stdout",
     "output_type": "stream",
     "text": [
      "c:\\Users\\qhqhs\\Desktop\\수업중\\hihi.txt\n",
      "False\n",
      "False\n"
     ]
    }
   ],
   "source": [
    "# 경로(path)가 폴더인지 파일인지 인식하기\n",
    "\n",
    "# 폴더인지 확인\n",
    "print(os.path.isdir(str_path_abs))\n",
    "# 파일인지 확인\n",
    "print(os.path.isfile(str_path_abs))\n",
    "\n",
    "# 뭐지? 둘다 false네..."
   ]
  },
  {
   "cell_type": "code",
   "execution_count": 28,
   "metadata": {},
   "outputs": [
    {
     "name": "stdout",
     "output_type": "stream",
     "text": [
      "['.ipynb_checkpoints', '0706_파이썬 기초복습.ipynb', '0707_SQL복습.ipynb', '0708_Library1복습.ipynb']\n",
      "0706_파이썬 기초복습.ipynb\n",
      "0707_SQL복습.ipynb\n",
      "0708_Library1복습.ipynb\n"
     ]
    }
   ],
   "source": [
    "# 폴더 내용 (파일) 보기\n",
    "\n",
    "# 현 작업 폴더의 파일 리스트\n",
    "list_dir = os.listdir()\n",
    "print(list_dir)\n",
    "list_dir.sort()\n",
    "\n",
    "# 0으로 시작하는 파일만 보여줌\n",
    "for x in list_dir:\n",
    "    if x.lower()[0] == '0':\n",
    "        print(x)"
   ]
  },
  {
   "cell_type": "markdown",
   "metadata": {},
   "source": [
    "#### 파일 생성 및 삭제, 폴더 생성 및 삭제\n",
    "임시로 파일 만들어서 쓰고, 지울때 이런 방법 사용"
   ]
  },
  {
   "cell_type": "code",
   "execution_count": 32,
   "metadata": {},
   "outputs": [
    {
     "name": "stdout",
     "output_type": "stream",
     "text": [
      "['.ipynb_checkpoints', '0706_파이썬 기초복습.ipynb', '0707_SQL복습.ipynb', '0708_Library1복습.ipynb', 'tmp']\n"
     ]
    },
    {
     "ename": "FileExistsError",
     "evalue": "[WinError 183] 파일이 이미 있으므로 만들 수 없습니다: 'tmp'",
     "output_type": "error",
     "traceback": [
      "\u001b[1;31m---------------------------------------------------------------------------\u001b[0m",
      "\u001b[1;31mFileExistsError\u001b[0m                           Traceback (most recent call last)",
      "\u001b[1;32m<ipython-input-32-500ddff97966>\u001b[0m in \u001b[0;36m<module>\u001b[1;34m\u001b[0m\n\u001b[0;32m      2\u001b[0m \u001b[1;33m\u001b[0m\u001b[0m\n\u001b[0;32m      3\u001b[0m \u001b[0mprint\u001b[0m\u001b[1;33m(\u001b[0m\u001b[0mos\u001b[0m\u001b[1;33m.\u001b[0m\u001b[0mlistdir\u001b[0m\u001b[1;33m(\u001b[0m\u001b[1;33m)\u001b[0m\u001b[1;33m)\u001b[0m\u001b[1;33m\u001b[0m\u001b[1;33m\u001b[0m\u001b[0m\n\u001b[1;32m----> 4\u001b[1;33m \u001b[0mos\u001b[0m\u001b[1;33m.\u001b[0m\u001b[0mmkdir\u001b[0m\u001b[1;33m(\u001b[0m\u001b[1;34m\"tmp\"\u001b[0m\u001b[1;33m)\u001b[0m\u001b[1;33m\u001b[0m\u001b[1;33m\u001b[0m\u001b[0m\n\u001b[0m\u001b[0;32m      5\u001b[0m \u001b[0mprint\u001b[0m\u001b[1;33m(\u001b[0m\u001b[0mos\u001b[0m\u001b[1;33m.\u001b[0m\u001b[0mlistdir\u001b[0m\u001b[1;33m(\u001b[0m\u001b[1;33m)\u001b[0m\u001b[1;33m)\u001b[0m\u001b[1;33m\u001b[0m\u001b[1;33m\u001b[0m\u001b[0m\n",
      "\u001b[1;31mFileExistsError\u001b[0m: [WinError 183] 파일이 이미 있으므로 만들 수 없습니다: 'tmp'"
     ]
    }
   ],
   "source": [
    "# 폴더(directory) 생성\n",
    "\n",
    "print(os.listdir())\n",
    "os.mkdir(\"tmp\")\n",
    "print(os.listdir())"
   ]
  },
  {
   "cell_type": "code",
   "execution_count": 33,
   "metadata": {},
   "outputs": [
    {
     "name": "stdout",
     "output_type": "stream",
     "text": [
      "['test.txt']\n"
     ]
    }
   ],
   "source": [
    "# 파일 추가\n",
    "\n",
    "# f = open(\"./tmp/test.txt\", mode = \"wt\", encoding=\"utf-8\")\n",
    "f = open(\"./tmp/test.txt\", \"w\", encoding=\"utf-8\") #상대경로\n",
    "f.write(\"hello python\") \n",
    "f.close\n",
    "print(os.listdir(\"./tmp\"))"
   ]
  },
  {
   "cell_type": "code",
   "execution_count": 34,
   "metadata": {},
   "outputs": [
    {
     "ename": "PermissionError",
     "evalue": "[WinError 32] 다른 프로세스가 파일을 사용 중이기 때문에 프로세스가 액세스 할 수 없습니다: './tmp/test.txt' -> './tmp/hello.txt'",
     "output_type": "error",
     "traceback": [
      "\u001b[1;31m---------------------------------------------------------------------------\u001b[0m",
      "\u001b[1;31mPermissionError\u001b[0m                           Traceback (most recent call last)",
      "\u001b[1;32m<ipython-input-34-5a27fc2057f8>\u001b[0m in \u001b[0;36m<module>\u001b[1;34m\u001b[0m\n\u001b[0;32m      1\u001b[0m \u001b[1;31m# 파일 이름 변경\u001b[0m\u001b[1;33m\u001b[0m\u001b[1;33m\u001b[0m\u001b[1;33m\u001b[0m\u001b[0m\n\u001b[0;32m      2\u001b[0m \u001b[1;33m\u001b[0m\u001b[0m\n\u001b[1;32m----> 3\u001b[1;33m \u001b[0mos\u001b[0m\u001b[1;33m.\u001b[0m\u001b[0mrename\u001b[0m\u001b[1;33m(\u001b[0m\u001b[1;34m\"./tmp/test.txt\"\u001b[0m\u001b[1;33m,\u001b[0m\u001b[1;34m\"./tmp/hello.txt\"\u001b[0m\u001b[1;33m)\u001b[0m\u001b[1;33m\u001b[0m\u001b[1;33m\u001b[0m\u001b[0m\n\u001b[0m\u001b[0;32m      4\u001b[0m \u001b[0mprint\u001b[0m\u001b[1;33m(\u001b[0m\u001b[0mos\u001b[0m\u001b[1;33m.\u001b[0m\u001b[0mlistdir\u001b[0m\u001b[1;33m(\u001b[0m\u001b[1;34m\"./tmp\"\u001b[0m\u001b[1;33m)\u001b[0m\u001b[1;33m)\u001b[0m\u001b[1;33m\u001b[0m\u001b[1;33m\u001b[0m\u001b[0m\n",
      "\u001b[1;31mPermissionError\u001b[0m: [WinError 32] 다른 프로세스가 파일을 사용 중이기 때문에 프로세스가 액세스 할 수 없습니다: './tmp/test.txt' -> './tmp/hello.txt'"
     ]
    }
   ],
   "source": [
    "# 파일 이름 변경\n",
    "\n",
    "os.rename(\"./tmp/test.txt\",\"./tmp/hello.txt\")\n",
    "print(os.listdir(\"./tmp\"))"
   ]
  },
  {
   "cell_type": "code",
   "execution_count": 36,
   "metadata": {},
   "outputs": [
    {
     "ename": "PermissionError",
     "evalue": "[WinError 32] 다른 프로세스가 파일을 사용 중이기 때문에 프로세스가 액세스 할 수 없습니다: './tmp/test.txt'",
     "output_type": "error",
     "traceback": [
      "\u001b[1;31m---------------------------------------------------------------------------\u001b[0m",
      "\u001b[1;31mPermissionError\u001b[0m                           Traceback (most recent call last)",
      "\u001b[1;32m<ipython-input-36-dfb62ebbf190>\u001b[0m in \u001b[0;36m<module>\u001b[1;34m\u001b[0m\n\u001b[0;32m      1\u001b[0m \u001b[1;31m# 파일 지우기 -> 파일이 있는 디렉토리는 파일을 먼저 지워야함\u001b[0m\u001b[1;33m\u001b[0m\u001b[1;33m\u001b[0m\u001b[1;33m\u001b[0m\u001b[0m\n\u001b[0;32m      2\u001b[0m \u001b[1;33m\u001b[0m\u001b[0m\n\u001b[1;32m----> 3\u001b[1;33m \u001b[0mos\u001b[0m\u001b[1;33m.\u001b[0m\u001b[0munlink\u001b[0m\u001b[1;33m(\u001b[0m\u001b[1;34m\"./tmp/test.txt\"\u001b[0m\u001b[1;33m)\u001b[0m\u001b[1;33m\u001b[0m\u001b[1;33m\u001b[0m\u001b[0m\n\u001b[0m\u001b[0;32m      4\u001b[0m \u001b[0mprint\u001b[0m\u001b[1;33m(\u001b[0m\u001b[0mos\u001b[0m\u001b[1;33m.\u001b[0m\u001b[0mlistdir\u001b[0m\u001b[1;33m(\u001b[0m\u001b[1;34m\"./tmp\"\u001b[0m\u001b[1;33m)\u001b[0m\u001b[1;33m)\u001b[0m\u001b[1;33m\u001b[0m\u001b[1;33m\u001b[0m\u001b[0m\n",
      "\u001b[1;31mPermissionError\u001b[0m: [WinError 32] 다른 프로세스가 파일을 사용 중이기 때문에 프로세스가 액세스 할 수 없습니다: './tmp/test.txt'"
     ]
    }
   ],
   "source": [
    "# 파일 지우기 -> 파일이 있는 디렉토리는 파일을 먼저 지워야함\n",
    "\n",
    "os.unlink(\"./tmp/test.txt\")\n",
    "print(os.listdir(\"./tmp\"))"
   ]
  },
  {
   "cell_type": "code",
   "execution_count": 38,
   "metadata": {},
   "outputs": [
    {
     "ename": "OSError",
     "evalue": "[WinError 145] 디렉터리가 비어 있지 않습니다: 'tmp'",
     "output_type": "error",
     "traceback": [
      "\u001b[1;31m---------------------------------------------------------------------------\u001b[0m",
      "\u001b[1;31mOSError\u001b[0m                                   Traceback (most recent call last)",
      "\u001b[1;32m<ipython-input-38-1d16eab6128d>\u001b[0m in \u001b[0;36m<module>\u001b[1;34m\u001b[0m\n\u001b[0;32m      1\u001b[0m \u001b[1;31m# 디렉토리 지우기\u001b[0m\u001b[1;33m\u001b[0m\u001b[1;33m\u001b[0m\u001b[1;33m\u001b[0m\u001b[0m\n\u001b[0;32m      2\u001b[0m \u001b[1;33m\u001b[0m\u001b[0m\n\u001b[1;32m----> 3\u001b[1;33m \u001b[0mos\u001b[0m\u001b[1;33m.\u001b[0m\u001b[0mrmdir\u001b[0m\u001b[1;33m(\u001b[0m\u001b[1;34m\"tmp\"\u001b[0m\u001b[1;33m)\u001b[0m\u001b[1;33m\u001b[0m\u001b[1;33m\u001b[0m\u001b[0m\n\u001b[0m\u001b[0;32m      4\u001b[0m \u001b[0mos\u001b[0m\u001b[1;33m.\u001b[0m\u001b[0mlistdir\u001b[0m\u001b[1;33m(\u001b[0m\u001b[1;33m)\u001b[0m\u001b[1;33m\u001b[0m\u001b[1;33m\u001b[0m\u001b[0m\n",
      "\u001b[1;31mOSError\u001b[0m: [WinError 145] 디렉터리가 비어 있지 않습니다: 'tmp'"
     ]
    }
   ],
   "source": [
    "# 디렉토리 지우기\n",
    "\n",
    "os.rmdir(\"tmp\")\n",
    "os.listdir() "
   ]
  },
  {
   "cell_type": "code",
   "execution_count": 40,
   "metadata": {},
   "outputs": [
    {
     "name": "stdout",
     "output_type": "stream",
     "text": [
      "./\n",
      "['.ipynb_checkpoints', 'tmp']\n",
      "['0706_파이썬 기초복습.ipynb', '0707_SQL복습.ipynb', '0708_Library1복습.ipynb']\n",
      "./.ipynb_checkpoints\n",
      "[]\n",
      "['0706_파이썬 기초복습-checkpoint.ipynb', '0707_SQL복습-checkpoint.ipynb', '0708_Library1복습-checkpoint.ipynb']\n",
      "./tmp\n",
      "[]\n",
      "['test.txt']\n"
     ]
    }
   ],
   "source": [
    "# 현 폴더 이하 트리 구조 출력\n",
    "\n",
    "for folderName, subFolder, fileName in os.walk(\"./\"):\n",
    "    print(folderName)\n",
    "    print(subFolder)\n",
    "    print(fileName)"
   ]
  },
  {
   "cell_type": "markdown",
   "metadata": {},
   "source": [
    "#### pickle"
   ]
  },
  {
   "cell_type": "code",
   "execution_count": 46,
   "metadata": {},
   "outputs": [
    {
     "name": "stdout",
     "output_type": "stream",
     "text": [
      "{1: 'python', 2: 'java', 3: 'c'}\n",
      "[1, 2, 3, {'이름': '임꺽정', '나이': 30, '키': 180}]\n"
     ]
    }
   ],
   "source": [
    "import pickle \n",
    "\n",
    "# 에시 1 : 딕셔너리 객체 저장\n",
    "\n",
    "f = open(\"./test.txt\",\"wb\")\n",
    "data = {1:'python',2:'java',3:'c'}\n",
    "pickle.dump(data, f)\n",
    "f.close()\n",
    "\n",
    "with open(\"./test.txt\",\"rb\") as f:\n",
    "    print(pickle.load(f))\n",
    "    \n",
    "# 예시 2 : 복합 객체 저장했다가 읽어오기\n",
    "\n",
    "x = [1,2,3,{'이름':'임꺽정','나이':30,'키':180}] # 복합 객체\n",
    "pickle.dump(x,open('my_pickle.pkl','wb')) # 절여둔다\n",
    "del x # 일단 지움\n",
    "new_x = pickle.load(open('my_pickle.pkl','rb')) # 절여둔 것 가져오기\n",
    "print(new_x)"
   ]
  },
  {
   "cell_type": "markdown",
   "metadata": {},
   "source": [
    "#### shelve"
   ]
  },
  {
   "cell_type": "code",
   "execution_count": 47,
   "metadata": {},
   "outputs": [
    {
     "name": "stdout",
     "output_type": "stream",
     "text": [
      "['aaa', 22, 33]\n"
     ]
    }
   ],
   "source": [
    "import shelve\n",
    "\n",
    "# 예시 1\n",
    "\n",
    "data1 = ['aaa',22,33]\n",
    "data2 = ['bbb',11,44]\n",
    "\n",
    "with shelve.open('./test1.bin') as f:\n",
    "    f['d1'] = data1\n",
    "    f['d2'] = data2\n",
    "    \n",
    "with shelve.open('./test1.bin') as f:\n",
    "    print(f['d1'])"
   ]
  },
  {
   "cell_type": "markdown",
   "metadata": {},
   "source": [
    "파이썬_라이브러리 1 뒷부분\n",
    "\n",
    "Excel, Word, PDF 컨트롤은 안함(내가)"
   ]
  }
 ],
 "metadata": {
  "kernelspec": {
   "display_name": "Python 3",
   "language": "python",
   "name": "python3"
  },
  "language_info": {
   "codemirror_mode": {
    "name": "ipython",
    "version": 3
   },
   "file_extension": ".py",
   "mimetype": "text/x-python",
   "name": "python",
   "nbconvert_exporter": "python",
   "pygments_lexer": "ipython3",
   "version": "3.7.6"
  }
 },
 "nbformat": 4,
 "nbformat_minor": 4
}
