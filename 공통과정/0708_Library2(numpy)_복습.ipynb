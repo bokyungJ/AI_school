{
 "cells": [
  {
   "cell_type": "code",
   "execution_count": 2,
   "metadata": {},
   "outputs": [
    {
     "data": {
      "text/plain": [
       "'1.18.1'"
      ]
     },
     "execution_count": 2,
     "metadata": {},
     "output_type": "execute_result"
    }
   ],
   "source": [
    "import numpy as np\n",
    "np.__version__"
   ]
  },
  {
   "cell_type": "code",
   "execution_count": 7,
   "metadata": {},
   "outputs": [
    {
     "name": "stdout",
     "output_type": "stream",
     "text": [
      "<class 'list'>\n",
      "[1 2 3]\n",
      "<class 'numpy.ndarray'>\n",
      "(3,)\n",
      "[[1 2 3]\n",
      " [4 5 6]]\n",
      "<class 'numpy.ndarray'>\n",
      "(2, 3)\n",
      "2\n",
      "6\n"
     ]
    }
   ],
   "source": [
    "# numpy에서는 ndarray\n",
    "\n",
    "list_1 = [1,2,3]\n",
    "print(type(list_1))\n",
    "\n",
    "array1 = np.array(list_1)\n",
    "print(array1)\n",
    "print(type(array1))\n",
    "print(array1.shape)\n",
    "\n",
    "array2 = np.array([[1,2,3],\n",
    "                  [4,5,6]])\n",
    "print(array2)\n",
    "print(type(array2))\n",
    "print(array2.shape) # 행, 열\n",
    "print(array2.ndim) # 차원\n",
    "print(array2.size) # 전체 요소 개수"
   ]
  },
  {
   "cell_type": "code",
   "execution_count": 12,
   "metadata": {},
   "outputs": [
    {
     "name": "stdout",
     "output_type": "stream",
     "text": [
      "int32\n",
      "int32\n",
      "float64\n",
      "<U11\n"
     ]
    }
   ],
   "source": [
    "# ndarray type\n",
    "\n",
    "print(array1.dtype)\n",
    "print(array2.dtype)\n",
    "\n",
    "array3 = np.array([1,2,3.0])\n",
    "print(array3.dtype) # 타입이 섞여있을 때는 큰 타입으로\n",
    "\n",
    "array4 = np.array([1,2,'test'])\n",
    "print(array4.dtype) # unicode 체계\n",
    "\n",
    "# list는 여러 타입이 들어오면 각각 됨\n",
    "# ndarray는 전체를 한 타입으로 처리 -> 타입을 맞춰주는 것이 좋음"
   ]
  },
  {
   "cell_type": "code",
   "execution_count": 3,
   "metadata": {},
   "outputs": [
    {
     "name": "stdout",
     "output_type": "stream",
     "text": [
      "[1 2 3]\n",
      "int32\n",
      "[1. 2. 3.]\n",
      "float64\n",
      "[1 2 3]\n",
      "int64\n"
     ]
    }
   ],
   "source": [
    "# ndarray type 변경\n",
    "\n",
    "array_int = np.array([1,2,3])\n",
    "print(array_int)\n",
    "print(array_int.dtype)\n",
    "\n",
    "array_float = array_int.astype('float64')\n",
    "print(array_float)\n",
    "print(array_float.dtype)\n",
    "\n",
    "array_float2 = np.array([1.1,2.1,3.1], dtype = np.int64)\n",
    "print(array_float2)\n",
    "print(array_float2.dtype)"
   ]
  },
  {
   "cell_type": "markdown",
   "metadata": {},
   "source": [
    "#### 연습 01"
   ]
  },
  {
   "cell_type": "code",
   "execution_count": 5,
   "metadata": {},
   "outputs": [
    {
     "name": "stdout",
     "output_type": "stream",
     "text": [
      "[[[1 2]\n",
      "  [3 4]]\n",
      "\n",
      " [[5 6]\n",
      "  [7 8]]]\n",
      "배열의 크기 : (2, 2, 2)\n",
      "배열의 차원 : 3\n",
      "배열의 개수 : 8\n"
     ]
    }
   ],
   "source": [
    "a_array = np.array([[[1,2],\n",
    "                    [3,4]],\n",
    "                   [[5,6],\n",
    "                   [7,8]]])\n",
    "print(a_array)\n",
    "print(\"배열의 크기 : {}\".format(a_array.shape))\n",
    "print(\"배열의 차원 : {}\".format(a_array.ndim))\n",
    "print(\"배열의 개수 : {}\".format(a_array.size))"
   ]
  },
  {
   "cell_type": "code",
   "execution_count": 6,
   "metadata": {},
   "outputs": [
    {
     "name": "stdout",
     "output_type": "stream",
     "text": [
      "[0 1 2 3 4 5 6 7 8 9]\n",
      "(10,)\n"
     ]
    }
   ],
   "source": [
    "# 순차적인 수로 ndarray 생성\n",
    "\n",
    "seq_array = np.arange(10)\n",
    "print(seq_array)\n",
    "print(seq_array.shape)"
   ]
  },
  {
   "cell_type": "code",
   "execution_count": 13,
   "metadata": {},
   "outputs": [
    {
     "name": "stdout",
     "output_type": "stream",
     "text": [
      "[[0 0]\n",
      " [0 0]\n",
      " [0 0]]\n",
      "(3, 2)\n",
      "[[1. 1.]\n",
      " [1. 1.]\n",
      " [1. 1.]]\n",
      "float64\n",
      "[[5 5]\n",
      " [5 5]\n",
      " [5 5]]\n",
      "int32\n",
      "[[0.19739327 0.36074766]\n",
      " [0.77234571 0.2823182 ]\n",
      " [0.65819702 0.64106924]]\n",
      "[[2 3]\n",
      " [9 4]\n",
      " [7 9]]\n"
     ]
    }
   ],
   "source": [
    "# 0으로 채워서 ndarray 생성\n",
    "\n",
    "zero_array = np.zeros((3,2), dtype=np.int32) # 'int32'로 해도 됨\n",
    "print(zero_array)\n",
    "print(zero_array.shape)\n",
    "\n",
    "# 1로 채워서 ndarray 생성\n",
    "\n",
    "ones_array = np.ones((3,2)) # default는 float\n",
    "print(ones_array)\n",
    "print(ones_array.dtype)\n",
    "\n",
    "# 0,1 이외의 수로 채워서 ndarray 생성\n",
    "\n",
    "full_array = np.full((3,2),5) #default는 int32\n",
    "print(full_array)\n",
    "print(full_array.dtype) \n",
    "\n",
    "# 랜덤 수로 채워서 ndarray 생성\n",
    "\n",
    "rand_array = np.random.rand(3,2)\n",
    "print(rand_array)\n",
    "\n",
    "rand_array2 = np.random.randint( 2,10,size=(3,2)) # 2~10 사이\n",
    "print(rand_array2)"
   ]
  },
  {
   "cell_type": "markdown",
   "metadata": {},
   "source": [
    "#### 연습 02\n",
    "1,2,3,...,50이 담긴 배열 생성"
   ]
  },
  {
   "cell_type": "code",
   "execution_count": 14,
   "metadata": {},
   "outputs": [
    {
     "name": "stdout",
     "output_type": "stream",
     "text": [
      "[ 1  2  3  4  5  6  7  8  9 10 11 12 13 14 15 16 17 18 19 20 21 22 23 24\n",
      " 25 26 27 28 29 30 31 32 33 34 35 36 37 38 39 40 41 42 43 44 45 46 47 48\n",
      " 49 50]\n"
     ]
    }
   ],
   "source": [
    "b_array = np.arange(1,51)\n",
    "print(b_array)"
   ]
  },
  {
   "cell_type": "code",
   "execution_count": 16,
   "metadata": {},
   "outputs": [
    {
     "name": "stdout",
     "output_type": "stream",
     "text": [
      "[0 1 2 3 4 5 6 7 8 9]\n",
      "[[0 1 2 3 4]\n",
      " [5 6 7 8 9]]\n",
      "[[0 1]\n",
      " [2 3]\n",
      " [4 5]\n",
      " [6 7]\n",
      " [8 9]]\n",
      "[[0 1]\n",
      " [2 3]\n",
      " [4 5]\n",
      " [6 7]\n",
      " [8 9]]\n",
      "[[0 1 2 3 4]\n",
      " [5 6 7 8 9]]\n",
      "[[0 1]\n",
      " [2 3]\n",
      " [4 5]\n",
      " [6 7]\n",
      " [8 9]]\n"
     ]
    }
   ],
   "source": [
    "# ndarray 차원 변경\n",
    "\n",
    "arr = np.arange(10)\n",
    "print(arr)\n",
    "\n",
    "arr2 = arr.reshape(2,5)\n",
    "print(arr2)\n",
    "\n",
    "arr3 = arr.reshape(5,2)\n",
    "print(arr3)\n",
    "\n",
    "arr4 = arr2.reshape(5,2)\n",
    "print(arr4)\n",
    "\n",
    "# arr5 = arr.reshape(3,3) 에러\n",
    "\n",
    "# 차원 자동으로 변경시키기\n",
    "arr6 = arr.reshape(2,-1) # 명확하지 않으면 -1\n",
    "print(arr6)\n",
    "\n",
    "arr7 = arr.reshape(5,-1)\n",
    "print(arr7)"
   ]
  },
  {
   "cell_type": "code",
   "execution_count": 18,
   "metadata": {},
   "outputs": [
    {
     "name": "stdout",
     "output_type": "stream",
     "text": [
      "[[[0 1]\n",
      "  [2 3]]\n",
      "\n",
      " [[4 5]\n",
      "  [6 7]]]\n",
      "[[[0, 1], [2, 3]], [[4, 5], [6, 7]]]\n"
     ]
    }
   ],
   "source": [
    "# list type으로 바꾸기\n",
    "\n",
    "arr = np.arange(8)\n",
    "arr3d = arr.reshape(2,2,2)\n",
    "print(arr3d)\n",
    "arr3d_list = arr3d.tolist()\n",
    "print(arr3d_list)"
   ]
  },
  {
   "cell_type": "code",
   "execution_count": 19,
   "metadata": {},
   "outputs": [
    {
     "name": "stdout",
     "output_type": "stream",
     "text": [
      "[[0]\n",
      " [1]\n",
      " [2]\n",
      " [3]\n",
      " [4]\n",
      " [5]\n",
      " [6]\n",
      " [7]] (8, 1) 2\n",
      "[[0]\n",
      " [1]\n",
      " [2]\n",
      " [3]\n",
      " [4]\n",
      " [5]\n",
      " [6]\n",
      " [7]] (8, 1) 2\n"
     ]
    }
   ],
   "source": [
    "# reshape은 같은 모양으로 만들어줌 - 실행 결과가 똑같음\n",
    "# 여러 복잡한 데이터들의 모양을 통일 시켜주고자 할 때 reshape이용\n",
    "\n",
    "arr_2 = arr.reshape(-1,1)\n",
    "print(arr_2, arr_2.shape, arr_2.ndim)\n",
    "\n",
    "arr3d_2 = arr3d.reshape(-1,1)\n",
    "print(arr3d_2, arr3d_2.shape, arr3d_2.ndim)"
   ]
  },
  {
   "cell_type": "markdown",
   "metadata": {},
   "source": [
    "### 인덱싱 & 슬라이싱 & 팬시인덱싱 & 불린인덱싱"
   ]
  },
  {
   "cell_type": "markdown",
   "metadata": {},
   "source": [
    "#### 인덱싱"
   ]
  },
  {
   "cell_type": "code",
   "execution_count": 24,
   "metadata": {},
   "outputs": [
    {
     "name": "stdout",
     "output_type": "stream",
     "text": [
      "3\n",
      "[1 2 9 4 5 6 7 8 9]\n",
      "3\n",
      "[[1 2 3]\n",
      " [4 5 6]]\n",
      "[1 2 3]\n",
      "1\n",
      "1\n",
      "[[1 2 3]\n",
      " [4 5 6]\n",
      " [7 8 9]]\n",
      "4\n"
     ]
    }
   ],
   "source": [
    "# 인덱싱\n",
    "array = np.arange(start=1, stop=10)\n",
    "v = array[2]\n",
    "print(v)\n",
    "\n",
    "# 수정하기\n",
    "array[2]=9\n",
    "print(array)\n",
    "print(v)\n",
    "\n",
    "# 2차원 인덱싱\n",
    "array_2 = np.array([[1,2,3],\n",
    "                   [4,5,6]])\n",
    "print(array_2)\n",
    "\n",
    "print(array_2[0])\n",
    "print(array_2[0][0])\n",
    "print(array_2[0,0])  # [0][0]과 같음\n",
    "\n",
    "array1d = np.arange(1,10)\n",
    "array2d = array1d.reshape(3,3)\n",
    "print(array2d)\n",
    "print(array2d[1,0])"
   ]
  },
  {
   "cell_type": "markdown",
   "metadata": {},
   "source": [
    "#### 슬라이싱"
   ]
  },
  {
   "cell_type": "code",
   "execution_count": 25,
   "metadata": {},
   "outputs": [
    {
     "name": "stdout",
     "output_type": "stream",
     "text": [
      "[2 3]\n",
      "[4 5 6 7 8 9]\n"
     ]
    }
   ],
   "source": [
    "# 슬라이싱\n",
    "array = np.arange(1,10)\n",
    "print(array[1:3])\n",
    "print(array[3:])"
   ]
  },
  {
   "cell_type": "code",
   "execution_count": 32,
   "metadata": {},
   "outputs": [
    {
     "name": "stdout",
     "output_type": "stream",
     "text": [
      "[[1 2 3]\n",
      " [4 5 6]\n",
      " [7 8 9]]\n",
      "[[1 2]\n",
      " [4 5]]\n",
      "[[4 5 6]\n",
      " [7 8 9]]\n",
      "[[4 5 6]\n",
      " [7 8 9]]\n",
      "[[1 2 3]\n",
      " [4 5 6]\n",
      " [7 8 9]]\n",
      "[[2 3]\n",
      " [5 6]]\n",
      "(3,)\n"
     ]
    }
   ],
   "source": [
    "# 2차원 슬라이싱\n",
    "array = np.arange(1,10).reshape(3,3)\n",
    "print(array)\n",
    "\n",
    "print(array[0:2,0:2])\n",
    "print(array[1:3,0:3])\n",
    "print(array[1:3,:])\n",
    "print(array[:,:])\n",
    "print(array[:2,1:])\n",
    "print(array[0].shape)"
   ]
  },
  {
   "cell_type": "markdown",
   "metadata": {},
   "source": [
    "#### 팬시 인덱싱\n",
    "인덱스의 목록을 여러개 가지고 오는 것 - [ [ ] ]"
   ]
  },
  {
   "cell_type": "code",
   "execution_count": 40,
   "metadata": {},
   "outputs": [
    {
     "name": "stdout",
     "output_type": "stream",
     "text": [
      "[1 2 3 4 5 6 7 8 9]\n",
      "[3 5 8]\n",
      "[[1 2 3]\n",
      " [4 5 6]\n",
      " [7 8 9]]\n",
      "[3 6]\n",
      "[[1 2]\n",
      " [4 5]]\n",
      "[[1 2 3]\n",
      " [4 5 6]]\n"
     ]
    }
   ],
   "source": [
    "array = np.arange(1,10)\n",
    "print(array)\n",
    "\n",
    "# 1차원 팬싱\n",
    "print(array[[2,4,7]])\n",
    "\n",
    "# 2차원 팬싱\n",
    "array = array.reshape(3,3)\n",
    "print(array)\n",
    "print(array[[0,1],2]) # 0행, 1행의 2열\n",
    "print(array[[0,1],0:2])\n",
    "print(array[[0,1]])"
   ]
  },
  {
   "cell_type": "markdown",
   "metadata": {},
   "source": [
    "#### 불린 인덱싱"
   ]
  },
  {
   "cell_type": "code",
   "execution_count": 43,
   "metadata": {},
   "outputs": [
    {
     "name": "stdout",
     "output_type": "stream",
     "text": [
      "[False False False False False  True  True  True  True]\n",
      "[6 7 8 9]\n"
     ]
    }
   ],
   "source": [
    "array = np.arange(1,10)\n",
    "print(array>5)\n",
    "print(array[array>5])"
   ]
  },
  {
   "cell_type": "markdown",
   "metadata": {},
   "source": [
    "#### 연습"
   ]
  },
  {
   "cell_type": "code",
   "execution_count": 47,
   "metadata": {},
   "outputs": [
    {
     "name": "stdout",
     "output_type": "stream",
     "text": [
      "[[ 60  60]\n",
      " [ 70  70]\n",
      " [ 80  80]\n",
      " [ 90  90]\n",
      " [100 100]]\n",
      "[ True False False False False]\n",
      "[[60 60]]\n"
     ]
    }
   ],
   "source": [
    "name = np.array(['홍길동','박철수','이혜수','임유리','김영원'])\n",
    "name_score = np.array([[60,60],[70,70],[80,80],[90,90],[100,100]])\n",
    "print(name_score)\n",
    "\n",
    "print(name=='홍길동')\n",
    "print(name_score[name=='홍길동'])"
   ]
  },
  {
   "cell_type": "markdown",
   "metadata": {},
   "source": [
    "#### 연습 \n",
    "각 사람의 BMI 지수 구하기 몸무게/(키*키)"
   ]
  },
  {
   "cell_type": "code",
   "execution_count": 55,
   "metadata": {},
   "outputs": [
    {
     "name": "stdout",
     "output_type": "stream",
     "text": [
      "[[175.2 180.3 175.  169.2 185.2 188.  177.6 178.2 177.  179. ]\n",
      " [ 65.6  88.   79.2  69.3  55.   71.2  73.   68.9  74.   82. ]]\n",
      "[0.0021371531035633117, 0.002707018468325884, 0.002586122448979592, 0.0024206528846637495, 0.0016035434227896761, 0.0020144861928474422, 0.0023143920947975003, 0.0021697206508280212, 0.0023620287912158064, 0.002559220998096189]\n"
     ]
    }
   ],
   "source": [
    "drive_path = r'c:/Apps/temp/'\n",
    "data = np.loadtxt(drive_path+'height_weight.txt',delimiter=',') # 구분자\n",
    "print(data)\n",
    "\n",
    "height = data[0]\n",
    "weight = data[1]\n",
    "bmi=[]\n",
    "\n",
    "for i in range(len(height)):\n",
    "    bmi.append(weight[i]/(height[i]**2))\n",
    "print(bmi)\n"
   ]
  },
  {
   "cell_type": "markdown",
   "metadata": {},
   "source": [
    "### 정렬"
   ]
  },
  {
   "cell_type": "code",
   "execution_count": 58,
   "metadata": {},
   "outputs": [
    {
     "name": "stdout",
     "output_type": "stream",
     "text": [
      "[3 5 2 1 9]\n",
      "[1 2 3 5 9]\n",
      "[1 2 3 5 9]\n",
      "[1 2 3 5 9]\n",
      "[9 5 3 2 1]\n"
     ]
    }
   ],
   "source": [
    "# 정렬 1 : 원래 데이터 수정 x, 새롭게 생성\n",
    "org_array = np.array([3,5,2,1,9])\n",
    "sort_array = np.sort(org_array)\n",
    "print(org_array)\n",
    "print(sort_array)\n",
    "\n",
    "# 정렬 2: 원래 데이터를 수정\n",
    "org_array.sort()\n",
    "print(org_array)\n",
    "\n",
    "# 반대로 정렬\n",
    "reverse_array = np.sort(org_array)[::-1]\n",
    "print(org_array)\n",
    "print(reverse_array)"
   ]
  },
  {
   "cell_type": "code",
   "execution_count": 63,
   "metadata": {},
   "outputs": [
    {
     "name": "stdout",
     "output_type": "stream",
     "text": [
      "[[ 7  1]\n",
      " [ 8 12]]\n",
      "[[ 8 12]\n",
      " [ 1  7]]\n"
     ]
    }
   ],
   "source": [
    "# 축으로 정렬 - 행방향\n",
    "array = np.array([[8,12],[7,1]])\n",
    "sort_array = np.sort(array, axis=0)\n",
    "print(sort_array)\n",
    "\n",
    "# 축으로 정렬 - 열방향\n",
    "sort_array = np.sort(array, axis=1)\n",
    "print(sort_array)"
   ]
  },
  {
   "cell_type": "code",
   "execution_count": 64,
   "metadata": {},
   "outputs": [
    {
     "name": "stdout",
     "output_type": "stream",
     "text": [
      "[1 2 3 5 9]\n",
      "[3 2 0 1 4]\n"
     ]
    }
   ],
   "source": [
    "org_arr = np.array([3,5,2,1,9])\n",
    "sort_arr = np.sort(org_arr)\n",
    "sort_index = np.argsort(org_arr)\n",
    "print(sort_arr)\n",
    "print(sort_index)"
   ]
  },
  {
   "cell_type": "code",
   "execution_count": 66,
   "metadata": {},
   "outputs": [
    {
     "data": {
      "text/plain": [
       "array(['홍길동', '이혜수', '김영원', '박철수', '임유리'], dtype='<U3')"
      ]
     },
     "execution_count": 66,
     "metadata": {},
     "output_type": "execute_result"
    }
   ],
   "source": [
    "# argsort 활용\n",
    "\n",
    "name = np.array(['홍길동','박철수','이혜수','임유리','김영원'])\n",
    "name_score = np.array([79,95,84,98,88])\n",
    "\n",
    "sort_index = np.argsort(name_score)\n",
    "name[sort_index] # 성적순으로 이름 출력"
   ]
  },
  {
   "cell_type": "code",
   "execution_count": 68,
   "metadata": {},
   "outputs": [
    {
     "name": "stdout",
     "output_type": "stream",
     "text": [
      "[100 101 102 103 104]\n",
      "[0 2 4 6 8]\n",
      "[ True  True  True  True  True]\n"
     ]
    }
   ],
   "source": [
    "# ndarray 연산\n",
    "\n",
    "array = np.arange(5)\n",
    "print(array + 100)\n",
    "print(np.add(array,array))\n",
    "print(array==array)"
   ]
  },
  {
   "cell_type": "code",
   "execution_count": null,
   "metadata": {},
   "outputs": [],
   "source": []
  }
 ],
 "metadata": {
  "kernelspec": {
   "display_name": "Python 3",
   "language": "python",
   "name": "python3"
  },
  "language_info": {
   "codemirror_mode": {
    "name": "ipython",
    "version": 3
   },
   "file_extension": ".py",
   "mimetype": "text/x-python",
   "name": "python",
   "nbconvert_exporter": "python",
   "pygments_lexer": "ipython3",
   "version": "3.7.6"
  }
 },
 "nbformat": 4,
 "nbformat_minor": 4
}
