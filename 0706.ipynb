{
  "nbformat": 4,
  "nbformat_minor": 0,
  "metadata": {
    "colab": {
      "name": "0706.ipynb",
      "provenance": [],
      "collapsed_sections": [],
      "authorship_tag": "ABX9TyMNMpOiar2K00fTTODqMAx7",
      "include_colab_link": true
    },
    "kernelspec": {
      "name": "python3",
      "display_name": "Python 3"
    }
  },
  "cells": [
    {
      "cell_type": "markdown",
      "metadata": {
        "id": "view-in-github",
        "colab_type": "text"
      },
      "source": [
        "<a href=\"https://colab.research.google.com/github/bokyungJ/AI_school/blob/master/0706.ipynb\" target=\"_parent\"><img src=\"https://colab.research.google.com/assets/colab-badge.svg\" alt=\"Open In Colab\"/></a>"
      ]
    },
    {
      "cell_type": "markdown",
      "metadata": {
        "id": "mQreEyktqR4Y",
        "colab_type": "text"
      },
      "source": [
        "예제 2\n",
        "- 100의 자리만 출력"
      ]
    },
    {
      "cell_type": "code",
      "metadata": {
        "id": "lRYh2utGqVGg",
        "colab_type": "code",
        "colab": {
          "base_uri": "https://localhost:8080/",
          "height": 52
        },
        "outputId": "789eba95-1e6c-4841-ce25-390889c1f850"
      },
      "source": [
        "# 내가 푼것\n",
        "num=int(input())\n",
        "num1=num%100\n",
        "num=num-num1\n",
        "num\n",
        "\n",
        "# 정답\n",
        "num=(num//100)*100\n",
        "\n",
        "num = num - num%100"
      ],
      "execution_count": 2,
      "outputs": [
        {
          "output_type": "stream",
          "text": [
            "456\n"
          ],
          "name": "stdout"
        },
        {
          "output_type": "execute_result",
          "data": {
            "text/plain": [
              "400"
            ]
          },
          "metadata": {
            "tags": []
          },
          "execution_count": 2
        }
      ]
    },
    {
      "cell_type": "markdown",
      "metadata": {
        "id": "Vhs8T7niqsxw",
        "colab_type": "text"
      },
      "source": [
        "예제3\n",
        "- 초를 입력받아 [시 분 초]형태로 출력"
      ]
    },
    {
      "cell_type": "code",
      "metadata": {
        "id": "8Y99TXmeqtKo",
        "colab_type": "code",
        "colab": {
          "base_uri": "https://localhost:8080/",
          "height": 52
        },
        "outputId": "b7228b68-5f08-4237-c759-d5a6bc50fda5"
      },
      "source": [
        "# 내가 푼 것\n",
        "second=int(input())\n",
        "hour=second//3600\n",
        "minute=(second-hour*3600)//60\n",
        "second=second-hour*3600-minute*60\n",
        "print(\"{}시{}분{}초\".format(hour,minute,second))\n",
        "\n",
        "# 다른1\n",
        "sec = int(input('초를 입력해주세요.: '))\n",
        "print(f'{sec // 3600} 시 {sec % 3600 // 60} 분 {sec % 3600 % 60} 초')\n",
        "\n",
        "# 다른2 - 강사님\n",
        "s = sec%60\n",
        "m = (sec//60)%60\n",
        "h = (sec//60)//60"
      ],
      "execution_count": 5,
      "outputs": [
        {
          "output_type": "stream",
          "text": [
            "3723\n",
            "1시2분3초\n"
          ],
          "name": "stdout"
        }
      ]
    },
    {
      "cell_type": "markdown",
      "metadata": {
        "id": "LxNNj1t9s3vT",
        "colab_type": "text"
      },
      "source": [
        "예제4\n",
        "- "
      ]
    },
    {
      "cell_type": "code",
      "metadata": {
        "id": "MuEAjswns4Bg",
        "colab_type": "code",
        "colab": {
          "base_uri": "https://localhost:8080/",
          "height": 52
        },
        "outputId": "213a888d-e7ad-47b7-8be6-700fa89b60bb"
      },
      "source": [
        "# 내가푼것\n",
        "time=int(input())\n",
        "if (time>8):\n",
        "  over=time-8\n",
        "  over_money=over*5000*1.5\n",
        "  origin_money=8*5000\n",
        "  money=over_money+origin_money\n",
        "else : \n",
        "  money=time*5000\n",
        "\n",
        "money1=int(money//1000)\n",
        "money2=int(money%1000)\n",
        "print(\"총 임금은 {},{}원 입니다\".format(money1,money2))\n",
        "\n",
        "# 다른1\n",
        "h = int(input('노동 시간을 입력해주세요.: '))\n",
        "print(f'총 임금은 {max(h - 8, 0) * 5000 * 1.5 + min(h, 8) * 5000} 원 입니다.')\n",
        "\n",
        "# 다른2\n",
        "hour = int(input(\"노동 시간 입력: \"))\n",
        "money = 0\n",
        "if hour > 8:\n",
        "  money = 5000 * 8 + 5000 * 1.5 * (hour - 8)\n",
        "else :\n",
        "  money = 5000 * hour\n",
        "print(\"총 임금은 \",int(money//1000),\",\",int(money%1000),\" 원 입니다.\")\n",
        "\n",
        "# 다른3 - 강사님 \n",
        "working_time=11\n",
        "overtime=working_time%8 # overtime이 8시간 배수면 계산이 안됨\n",
        "wage=(5000*working_time)+(5000*0.5*overtime)\n",
        "print(\"총 임금음 {:,}원 입니다\".format(int(wage))"
      ],
      "execution_count": 12,
      "outputs": [
        {
          "output_type": "stream",
          "text": [
            "11\n",
            "총 임금은 62,500원 입니다\n"
          ],
          "name": "stdout"
        }
      ]
    },
    {
      "cell_type": "markdown",
      "metadata": {
        "id": "582LFDl4vbsX",
        "colab_type": "text"
      },
      "source": [
        "#복합자료형\n"
      ]
    },
    {
      "cell_type": "markdown",
      "metadata": {
        "id": "gHha5cybxgAx",
        "colab_type": "text"
      },
      "source": [
        "리스트예제1"
      ]
    },
    {
      "cell_type": "code",
      "metadata": {
        "id": "kdNinutPvcos",
        "colab_type": "code",
        "colab": {
          "base_uri": "https://localhost:8080/",
          "height": 70
        },
        "outputId": "1f1251af-918a-444a-bfe6-e7521c54d8e7"
      },
      "source": [
        "array=[1,2,3,4,5]\n",
        "array[-1]=7\n",
        "print(array)\n",
        "array[1]=list(['a','b','c'])\n",
        "print(array)\n",
        "array[-2:]=['d','e','f','g']\n",
        "print(array)"
      ],
      "execution_count": 14,
      "outputs": [
        {
          "output_type": "stream",
          "text": [
            "[1, 2, 3, 4, 7]\n",
            "[1, ['a', 'b', 'c'], 3, 4, 7]\n"
          ],
          "name": "stdout"
        },
        {
          "output_type": "execute_result",
          "data": {
            "text/plain": [
              "[1, ['a', 'b', 'c'], 3, 'd', 'e', 'f', 'g']"
            ]
          },
          "metadata": {
            "tags": []
          },
          "execution_count": 14
        }
      ]
    },
    {
      "cell_type": "markdown",
      "metadata": {
        "id": "-95wo6C21no6",
        "colab_type": "text"
      },
      "source": [
        "for예제"
      ]
    },
    {
      "cell_type": "code",
      "metadata": {
        "id": "f_XxU4rJ1n-P",
        "colab_type": "code",
        "colab": {
          "base_uri": "https://localhost:8080/",
          "height": 122
        },
        "outputId": "7ee9aab2-c131-4a2d-c584-2b2d90e97af6"
      },
      "source": [
        "# 내가한거\n",
        "array=[[1,2],[3,4],[5,6]]\n",
        "\n",
        "for i in array:\n",
        "  for k in i:\n",
        "    print(k)\n",
        "\n",
        "# 다른 - 강사님\n",
        "for a,b in array:\n",
        "  print(a)\n",
        "  print(b)"
      ],
      "execution_count": 16,
      "outputs": [
        {
          "output_type": "stream",
          "text": [
            "1\n",
            "2\n",
            "3\n",
            "4\n",
            "5\n",
            "6\n"
          ],
          "name": "stdout"
        }
      ]
    },
    {
      "cell_type": "markdown",
      "metadata": {
        "id": "mvb1U3J6AzEr",
        "colab_type": "text"
      },
      "source": [
        "for range 연습\n",
        "- 96에서 53까지 출력\n",
        "- 21에서 57까지 중 홀수만 출력\n",
        "- 1~100까지 3의 배수의 합 출력(1683)"
      ]
    },
    {
      "cell_type": "code",
      "metadata": {
        "id": "oc9U1HN_AzS_",
        "colab_type": "code",
        "colab": {
          "base_uri": "https://localhost:8080/",
          "height": 70
        },
        "outputId": "c470c04e-d225-420f-e0ca-0606167cc398"
      },
      "source": [
        "for i in range(96,52,-1):\n",
        "  print(i, end=' ')\n",
        "print()\n",
        "\n",
        "for i in range(21,58,2):\n",
        "  print(i, end=' ')\n",
        "print()\n",
        "\n",
        "sum=0\n",
        "for i in range(100):\n",
        "  if i%3==0:\n",
        "    sum+=i\n",
        "print(sum)\n"
      ],
      "execution_count": 25,
      "outputs": [
        {
          "output_type": "stream",
          "text": [
            "96 95 94 93 92 91 90 89 88 87 86 85 84 83 82 81 80 79 78 77 76 75 74 73 72 71 70 69 68 67 66 65 64 63 62 61 60 59 58 57 56 55 54 53 \n",
            "21 23 25 27 29 31 33 35 37 39 41 43 45 47 49 51 53 55 57 \n",
            "1683\n"
          ],
          "name": "stdout"
        }
      ]
    },
    {
      "cell_type": "markdown",
      "metadata": {
        "id": "DtXGt8xlBjFe",
        "colab_type": "text"
      },
      "source": [
        "별모양 출력"
      ]
    },
    {
      "cell_type": "code",
      "metadata": {
        "id": "DCN9nm_HBjP-",
        "colab_type": "code",
        "colab": {
          "base_uri": "https://localhost:8080/",
          "height": 105
        },
        "outputId": "7fa2a3f1-20f3-4594-a790-b14ab4ffec7b"
      },
      "source": [
        "# 강사님 - 별찍는거 연습해보기\n",
        "for i in range(5):\n",
        "  print('*'*(i+1))"
      ],
      "execution_count": 24,
      "outputs": [
        {
          "output_type": "stream",
          "text": [
            "*\n",
            "**\n",
            "***\n",
            "****\n",
            "*****\n"
          ],
          "name": "stdout"
        }
      ]
    },
    {
      "cell_type": "markdown",
      "metadata": {
        "id": "kds4Kq0hCgvD",
        "colab_type": "text"
      },
      "source": [
        "함수예제\n",
        "- start부터 end까지의 약수를 구하는 getDivisorRange()함수"
      ]
    },
    {
      "cell_type": "code",
      "metadata": {
        "id": "X-V6jUIOCg-N",
        "colab_type": "code",
        "colab": {}
      },
      "source": [
        "# 내가짠거 아님\n",
        "def isDivisior(a,b):\n",
        "  if num2 % num1 == 0:\n",
        "    return True \n",
        "  else: \n",
        "    return False\n",
        "\n",
        "def getDivisor(a):\n",
        "  print(\"%d의 약수:\"%a, end=' ')\n",
        "  for i in range(a):\n",
        "    if isDivisor(i, a):\n",
        "      print(i, end=' ')\n",
        "  print(a)\n",
        "\n",
        "def getDivisorRange(n1, n2):\n",
        "  for i in range(n1, n2+1):\n",
        "    getDivisor(i)\n",
        "\n",
        "\n"
      ],
      "execution_count": null,
      "outputs": []
    },
    {
      "cell_type": "markdown",
      "metadata": {
        "id": "7wHIXlr4Q1bk",
        "colab_type": "text"
      },
      "source": [
        "클래스 예제"
      ]
    },
    {
      "cell_type": "code",
      "metadata": {
        "id": "Fj3DWvqEQ1qj",
        "colab_type": "code",
        "colab": {}
      },
      "source": [
        "class Flight:\n",
        "\n",
        "    def __init__(self): # 초기화자\n",
        "        print('init')\n",
        "        super().__init__()\n",
        "        self._name = 'SN060' # 내부 변수임을 약속(_싱글 언더바)\n",
        "        self.__hp = 1000    # 비공개 속성(__더블 언더바)\n",
        "\n",
        "    def __new__(cls):  # 생성자\n",
        "        print('new')\n",
        "        return super().__new__(cls)\n",
        "\n",
        "    def number(self):\n",
        "        return self._name\n",
        "\n",
        "\n",
        "f = Flight() # 생성자(constructor)\n",
        "f._name"
      ],
      "execution_count": null,
      "outputs": []
    }
  ]
}